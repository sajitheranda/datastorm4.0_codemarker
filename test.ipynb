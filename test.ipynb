{
 "cells": [
  {
   "cell_type": "markdown",
   "id": "6c8a07e6",
   "metadata": {},
   "source": [
    "## data storm 4.0 group 095"
   ]
  },
  {
   "cell_type": "markdown",
   "id": "6ff4fa88",
   "metadata": {},
   "source": [
    "### import needed libraries"
   ]
  },
  {
   "cell_type": "code",
   "execution_count": 16,
   "id": "988aedcb",
   "metadata": {},
   "outputs": [],
   "source": [
    "import pandas as pd\n",
    "import numpy as nps"
   ]
  },
  {
   "cell_type": "markdown",
   "id": "22b4ae01",
   "metadata": {},
   "source": [
    "### import data into code"
   ]
  },
  {
   "cell_type": "code",
   "execution_count": 17,
   "id": "3c3b2911",
   "metadata": {},
   "outputs": [],
   "source": [
    "transaction_data=pd.read_csv(\"../data/Historical-transaction-data.csv\")\n",
    "store_data=pd.read_csv(\"../data/Store-info.csv\")"
   ]
  },
  {
   "cell_type": "markdown",
   "id": "c07b02de",
   "metadata": {},
   "source": [
    "get the first few rows of the transaction_data and store_data"
   ]
  },
  {
   "cell_type": "code",
   "execution_count": 18,
   "id": "eb9314d3",
   "metadata": {},
   "outputs": [
    {
     "data": {
      "text/html": [
       "<div>\n",
       "<style scoped>\n",
       "    .dataframe tbody tr th:only-of-type {\n",
       "        vertical-align: middle;\n",
       "    }\n",
       "\n",
       "    .dataframe tbody tr th {\n",
       "        vertical-align: top;\n",
       "    }\n",
       "\n",
       "    .dataframe thead th {\n",
       "        text-align: right;\n",
       "    }\n",
       "</style>\n",
       "<table border=\"1\" class=\"dataframe\">\n",
       "  <thead>\n",
       "    <tr style=\"text-align: right;\">\n",
       "      <th></th>\n",
       "      <th>shop_id</th>\n",
       "      <th>shop_area_sq_ft</th>\n",
       "      <th>shop_profile</th>\n",
       "    </tr>\n",
       "  </thead>\n",
       "  <tbody>\n",
       "    <tr>\n",
       "      <th>0</th>\n",
       "      <td>SHOP047</td>\n",
       "      <td>528</td>\n",
       "      <td>Moderate</td>\n",
       "    </tr>\n",
       "    <tr>\n",
       "      <th>1</th>\n",
       "      <td>SHOP009</td>\n",
       "      <td>676</td>\n",
       "      <td>High</td>\n",
       "    </tr>\n",
       "    <tr>\n",
       "      <th>2</th>\n",
       "      <td>SHOP083</td>\n",
       "      <td>676</td>\n",
       "      <td>Low</td>\n",
       "    </tr>\n",
       "    <tr>\n",
       "      <th>3</th>\n",
       "      <td>SHOP117</td>\n",
       "      <td>676</td>\n",
       "      <td>Low</td>\n",
       "    </tr>\n",
       "    <tr>\n",
       "      <th>4</th>\n",
       "      <td>SHOP042</td>\n",
       "      <td>676</td>\n",
       "      <td>Low</td>\n",
       "    </tr>\n",
       "  </tbody>\n",
       "</table>\n",
       "</div>"
      ],
      "text/plain": [
       "   shop_id  shop_area_sq_ft shop_profile\n",
       "0  SHOP047              528     Moderate\n",
       "1  SHOP009              676         High\n",
       "2  SHOP083              676          Low\n",
       "3  SHOP117              676          Low\n",
       "4  SHOP042              676          Low"
      ]
     },
     "execution_count": 18,
     "metadata": {},
     "output_type": "execute_result"
    }
   ],
   "source": [
    "store_data.head()"
   ]
  },
  {
   "cell_type": "code",
   "execution_count": 19,
   "id": "bb34e084",
   "metadata": {},
   "outputs": [
    {
     "data": {
      "text/html": [
       "<div>\n",
       "<style scoped>\n",
       "    .dataframe tbody tr th:only-of-type {\n",
       "        vertical-align: middle;\n",
       "    }\n",
       "\n",
       "    .dataframe tbody tr th {\n",
       "        vertical-align: top;\n",
       "    }\n",
       "\n",
       "    .dataframe thead th {\n",
       "        text-align: right;\n",
       "    }\n",
       "</style>\n",
       "<table border=\"1\" class=\"dataframe\">\n",
       "  <thead>\n",
       "    <tr style=\"text-align: right;\">\n",
       "      <th></th>\n",
       "      <th>item_description</th>\n",
       "      <th>transaction_date</th>\n",
       "      <th>invoice_id</th>\n",
       "      <th>customer_id</th>\n",
       "      <th>shop_id</th>\n",
       "      <th>item_price</th>\n",
       "      <th>quantity_sold</th>\n",
       "    </tr>\n",
       "  </thead>\n",
       "  <tbody>\n",
       "    <tr>\n",
       "      <th>0</th>\n",
       "      <td>ORANGE BARLEY 1.5L</td>\n",
       "      <td>2021-12-11T00:00:00.000Z</td>\n",
       "      <td>147.0</td>\n",
       "      <td>BGXA</td>\n",
       "      <td>SHOP008</td>\n",
       "      <td>220</td>\n",
       "      <td>2</td>\n",
       "    </tr>\n",
       "    <tr>\n",
       "      <th>1</th>\n",
       "      <td>GINGER BEER 1.5L</td>\n",
       "      <td>2021-10-17T00:00:00.000Z</td>\n",
       "      <td>371.0</td>\n",
       "      <td>IA25</td>\n",
       "      <td>SHOP112</td>\n",
       "      <td>220</td>\n",
       "      <td>2</td>\n",
       "    </tr>\n",
       "    <tr>\n",
       "      <th>2</th>\n",
       "      <td>TONIC PET 500ML</td>\n",
       "      <td>2021-12-13T00:00:00.000Z</td>\n",
       "      <td>484.0</td>\n",
       "      <td>VN7V</td>\n",
       "      <td>SHOP008</td>\n",
       "      <td>160</td>\n",
       "      <td>2</td>\n",
       "    </tr>\n",
       "    <tr>\n",
       "      <th>3</th>\n",
       "      <td>CREAM SODA 1L</td>\n",
       "      <td>2021-12-13T00:00:00.000Z</td>\n",
       "      <td>484.0</td>\n",
       "      <td>VN7V</td>\n",
       "      <td>SHOP008</td>\n",
       "      <td>150</td>\n",
       "      <td>2</td>\n",
       "    </tr>\n",
       "    <tr>\n",
       "      <th>4</th>\n",
       "      <td>STRAWBERRY MILK 180ML</td>\n",
       "      <td>2021-10-23T00:00:00.000Z</td>\n",
       "      <td>1310.0</td>\n",
       "      <td>7S00</td>\n",
       "      <td>SHOP112</td>\n",
       "      <td>210</td>\n",
       "      <td>5</td>\n",
       "    </tr>\n",
       "  </tbody>\n",
       "</table>\n",
       "</div>"
      ],
      "text/plain": [
       "        item_description          transaction_date  invoice_id customer_id  \\\n",
       "0     ORANGE BARLEY 1.5L  2021-12-11T00:00:00.000Z       147.0        BGXA   \n",
       "1       GINGER BEER 1.5L  2021-10-17T00:00:00.000Z       371.0        IA25   \n",
       "2        TONIC PET 500ML  2021-12-13T00:00:00.000Z       484.0        VN7V   \n",
       "3          CREAM SODA 1L  2021-12-13T00:00:00.000Z       484.0        VN7V   \n",
       "4  STRAWBERRY MILK 180ML  2021-10-23T00:00:00.000Z      1310.0        7S00   \n",
       "\n",
       "   shop_id  item_price  quantity_sold  \n",
       "0  SHOP008         220              2  \n",
       "1  SHOP112         220              2  \n",
       "2  SHOP008         160              2  \n",
       "3  SHOP008         150              2  \n",
       "4  SHOP112         210              5  "
      ]
     },
     "execution_count": 19,
     "metadata": {},
     "output_type": "execute_result"
    }
   ],
   "source": [
    "transaction_data.head()"
   ]
  },
  {
   "cell_type": "markdown",
   "id": "ea3842d8",
   "metadata": {},
   "source": [
    "## Data pre-processing"
   ]
  },
  {
   "cell_type": "markdown",
   "id": "23675444",
   "metadata": {},
   "source": [
    "### remove unwnated data and get the important data"
   ]
  },
  {
   "cell_type": "markdown",
   "id": "6fa313a6",
   "metadata": {},
   "source": [
    "In this step,we have to extract the details from the transaction_data.we think most important feature is the price. we also have to consider the number of items,the number of customers,number of different items sold"
   ]
  },
  {
   "cell_type": "markdown",
   "id": "ba5713c6",
   "metadata": {},
   "source": [
    "we know that each row should be unique becuase if shop buy same product then quantity_sold should be increased.we think if duplicate row means there is a problem in data entering.data set should be consistent.so we have to remove duplicate values"
   ]
  },
  {
   "cell_type": "code",
   "execution_count": 20,
   "id": "a75470c5",
   "metadata": {},
   "outputs": [
    {
     "name": "stdout",
     "output_type": "stream",
     "text": [
      "number of duplicate invoices =  31211\n"
     ]
    }
   ],
   "source": [
    "duplicate_invoice=transaction_data.duplicated().sum()\n",
    "print(\"number of duplicate invoices = \",duplicate_invoice)"
   ]
  },
  {
   "cell_type": "code",
   "execution_count": 21,
   "id": "45120ed1",
   "metadata": {},
   "outputs": [
    {
     "name": "stdout",
     "output_type": "stream",
     "text": [
      "duplicate columns as percentage =  6.58496035647525\n"
     ]
    }
   ],
   "source": [
    "print(\"duplicate columns as percentage = \",duplicate_invoice/transaction_data.shape[0]*100)"
   ]
  },
  {
   "cell_type": "code",
   "execution_count": 22,
   "id": "53bdf6f9",
   "metadata": {},
   "outputs": [],
   "source": [
    "# to drop the duplicates\n",
    "transaction_data=transaction_data.drop_duplicates()"
   ]
  },
  {
   "cell_type": "markdown",
   "id": "13b17757",
   "metadata": {},
   "source": [
    "to group by shop_id"
   ]
  },
  {
   "cell_type": "code",
   "execution_count": 23,
   "id": "51c404d8",
   "metadata": {},
   "outputs": [],
   "source": [
    "grouped_transaction_data = transaction_data.groupby('shop_id')"
   ]
  },
  {
   "cell_type": "code",
   "execution_count": 24,
   "id": "36ac30f1",
   "metadata": {},
   "outputs": [
    {
     "data": {
      "text/html": [
       "<div>\n",
       "<style scoped>\n",
       "    .dataframe tbody tr th:only-of-type {\n",
       "        vertical-align: middle;\n",
       "    }\n",
       "\n",
       "    .dataframe tbody tr th {\n",
       "        vertical-align: top;\n",
       "    }\n",
       "\n",
       "    .dataframe thead th {\n",
       "        text-align: right;\n",
       "    }\n",
       "</style>\n",
       "<table border=\"1\" class=\"dataframe\">\n",
       "  <thead>\n",
       "    <tr style=\"text-align: right;\">\n",
       "      <th></th>\n",
       "      <th>item_description</th>\n",
       "      <th>transaction_date</th>\n",
       "      <th>invoice_id</th>\n",
       "      <th>customer_id</th>\n",
       "      <th>shop_id</th>\n",
       "      <th>item_price</th>\n",
       "      <th>quantity_sold</th>\n",
       "    </tr>\n",
       "  </thead>\n",
       "  <tbody>\n",
       "    <tr>\n",
       "      <th>0</th>\n",
       "      <td>ORANGE BARLEY 1.5L</td>\n",
       "      <td>2021-12-11T00:00:00.000Z</td>\n",
       "      <td>147.0</td>\n",
       "      <td>BGXA</td>\n",
       "      <td>SHOP008</td>\n",
       "      <td>220</td>\n",
       "      <td>2</td>\n",
       "    </tr>\n",
       "    <tr>\n",
       "      <th>1</th>\n",
       "      <td>GINGER BEER 1.5L</td>\n",
       "      <td>2021-10-17T00:00:00.000Z</td>\n",
       "      <td>371.0</td>\n",
       "      <td>IA25</td>\n",
       "      <td>SHOP112</td>\n",
       "      <td>220</td>\n",
       "      <td>2</td>\n",
       "    </tr>\n",
       "    <tr>\n",
       "      <th>2</th>\n",
       "      <td>TONIC PET 500ML</td>\n",
       "      <td>2021-12-13T00:00:00.000Z</td>\n",
       "      <td>484.0</td>\n",
       "      <td>VN7V</td>\n",
       "      <td>SHOP008</td>\n",
       "      <td>160</td>\n",
       "      <td>2</td>\n",
       "    </tr>\n",
       "    <tr>\n",
       "      <th>3</th>\n",
       "      <td>CREAM SODA 1L</td>\n",
       "      <td>2021-12-13T00:00:00.000Z</td>\n",
       "      <td>484.0</td>\n",
       "      <td>VN7V</td>\n",
       "      <td>SHOP008</td>\n",
       "      <td>150</td>\n",
       "      <td>2</td>\n",
       "    </tr>\n",
       "    <tr>\n",
       "      <th>4</th>\n",
       "      <td>STRAWBERRY MILK 180ML</td>\n",
       "      <td>2021-10-23T00:00:00.000Z</td>\n",
       "      <td>1310.0</td>\n",
       "      <td>7S00</td>\n",
       "      <td>SHOP112</td>\n",
       "      <td>210</td>\n",
       "      <td>5</td>\n",
       "    </tr>\n",
       "    <tr>\n",
       "      <th>...</th>\n",
       "      <td>...</td>\n",
       "      <td>...</td>\n",
       "      <td>...</td>\n",
       "      <td>...</td>\n",
       "      <td>...</td>\n",
       "      <td>...</td>\n",
       "      <td>...</td>\n",
       "    </tr>\n",
       "    <tr>\n",
       "      <th>5031</th>\n",
       "      <td>NaN</td>\n",
       "      <td>2021-10-15T00:00:00.000Z</td>\n",
       "      <td>1471067.0</td>\n",
       "      <td>W8QK</td>\n",
       "      <td>SHOP072</td>\n",
       "      <td>70</td>\n",
       "      <td>1</td>\n",
       "    </tr>\n",
       "    <tr>\n",
       "      <th>5032</th>\n",
       "      <td>CREAM SODA 500ML</td>\n",
       "      <td>2021-10-16T00:00:00.000Z</td>\n",
       "      <td>1471404.0</td>\n",
       "      <td>6JBA</td>\n",
       "      <td>SHOP072</td>\n",
       "      <td>100</td>\n",
       "      <td>2</td>\n",
       "    </tr>\n",
       "    <tr>\n",
       "      <th>5035</th>\n",
       "      <td>CREAM SODA 500ML</td>\n",
       "      <td>2021-10-16T00:00:00.000Z</td>\n",
       "      <td>1471404.0</td>\n",
       "      <td>6JBA</td>\n",
       "      <td>SHOP072</td>\n",
       "      <td>100</td>\n",
       "      <td>0</td>\n",
       "    </tr>\n",
       "    <tr>\n",
       "      <th>5036</th>\n",
       "      <td>GINGER BEER 1.5L</td>\n",
       "      <td>2021-10-16T00:00:00.000Z</td>\n",
       "      <td>1471453.0</td>\n",
       "      <td>0XKY</td>\n",
       "      <td>SHOP072</td>\n",
       "      <td>220</td>\n",
       "      <td>2</td>\n",
       "    </tr>\n",
       "    <tr>\n",
       "      <th>5037</th>\n",
       "      <td>SODA 1L</td>\n",
       "      <td>2021-10-18T00:00:00.000Z</td>\n",
       "      <td>1471929.0</td>\n",
       "      <td>PDP9</td>\n",
       "      <td>SHOP072</td>\n",
       "      <td>550</td>\n",
       "      <td>6</td>\n",
       "    </tr>\n",
       "  </tbody>\n",
       "</table>\n",
       "<p>620 rows × 7 columns</p>\n",
       "</div>"
      ],
      "text/plain": [
       "           item_description          transaction_date  invoice_id customer_id  \\\n",
       "0        ORANGE BARLEY 1.5L  2021-12-11T00:00:00.000Z       147.0        BGXA   \n",
       "1          GINGER BEER 1.5L  2021-10-17T00:00:00.000Z       371.0        IA25   \n",
       "2           TONIC PET 500ML  2021-12-13T00:00:00.000Z       484.0        VN7V   \n",
       "3             CREAM SODA 1L  2021-12-13T00:00:00.000Z       484.0        VN7V   \n",
       "4     STRAWBERRY MILK 180ML  2021-10-23T00:00:00.000Z      1310.0        7S00   \n",
       "...                     ...                       ...         ...         ...   \n",
       "5031                    NaN  2021-10-15T00:00:00.000Z   1471067.0        W8QK   \n",
       "5032       CREAM SODA 500ML  2021-10-16T00:00:00.000Z   1471404.0        6JBA   \n",
       "5035       CREAM SODA 500ML  2021-10-16T00:00:00.000Z   1471404.0        6JBA   \n",
       "5036       GINGER BEER 1.5L  2021-10-16T00:00:00.000Z   1471453.0        0XKY   \n",
       "5037                SODA 1L  2021-10-18T00:00:00.000Z   1471929.0        PDP9   \n",
       "\n",
       "      shop_id  item_price  quantity_sold  \n",
       "0     SHOP008         220              2  \n",
       "1     SHOP112         220              2  \n",
       "2     SHOP008         160              2  \n",
       "3     SHOP008         150              2  \n",
       "4     SHOP112         210              5  \n",
       "...       ...         ...            ...  \n",
       "5031  SHOP072          70              1  \n",
       "5032  SHOP072         100              2  \n",
       "5035  SHOP072         100              0  \n",
       "5036  SHOP072         220              2  \n",
       "5037  SHOP072         550              6  \n",
       "\n",
       "[620 rows x 7 columns]"
      ]
     },
     "execution_count": 24,
     "metadata": {},
     "output_type": "execute_result"
    }
   ],
   "source": [
    "grouped_transaction_data.head()"
   ]
  },
  {
   "cell_type": "markdown",
   "id": "a55ce8c3",
   "metadata": {},
   "source": [
    "### to get the number of unique values for given column"
   ]
  },
  {
   "cell_type": "code",
   "execution_count": 25,
   "id": "98b742e5",
   "metadata": {},
   "outputs": [
    {
     "name": "stdout",
     "output_type": "stream",
     "text": [
      "item_description  number of unique values =  37\n",
      "transaction_date  number of unique values =  62\n",
      "invoice_id  number of unique values =  343342\n",
      "customer_id  number of unique values =  191636\n",
      "shop_id  number of unique values =  124\n",
      "item_price  number of unique values =  209\n",
      "quantity_sold  number of unique values =  69\n"
     ]
    }
   ],
   "source": [
    "for col in transaction_data.columns:\n",
    "    print(col,\" number of unique values = \",transaction_data[col].nunique())"
   ]
  },
  {
   "cell_type": "code",
   "execution_count": 26,
   "id": "f84275bb",
   "metadata": {},
   "outputs": [],
   "source": [
    "# transaction_data_SHOP008 = transaction_data[transaction_data['shop_id'] == 'SHOP008']\n",
    "# transaction_data_SHOP008.shape"
   ]
  },
  {
   "cell_type": "markdown",
   "id": "fadd355e",
   "metadata": {},
   "source": [
    "### to get the number of missing values for each colum"
   ]
  },
  {
   "cell_type": "code",
   "execution_count": 27,
   "id": "f7ef94b9",
   "metadata": {},
   "outputs": [
    {
     "name": "stdout",
     "output_type": "stream",
     "text": [
      "item_description  number of missing values =  35066\n",
      "transaction_date  number of missing values =  0\n",
      "invoice_id  number of missing values =  5769\n",
      "customer_id  number of missing values =  0\n",
      "shop_id  number of missing values =  0\n",
      "item_price  number of missing values =  0\n",
      "quantity_sold  number of missing values =  0\n"
     ]
    }
   ],
   "source": [
    "for col in transaction_data.columns:\n",
    "    print(col,\" number of missing values = \",transaction_data[col].isna().sum())"
   ]
  },
  {
   "cell_type": "markdown",
   "id": "2cf4f36d",
   "metadata": {},
   "source": [
    "so , that we don't need to use any missing value technic to haddle the missing values in the dataset because we only need price as a multiplication of item_price and quantity_sold. we can also take number of quatity sold by each shop without any problem.we can also take the unique number of customers for each shop because this column also don't have any missing values."
   ]
  },
  {
   "cell_type": "markdown",
   "id": "91e51ecd",
   "metadata": {},
   "source": [
    "we have to take the number of unique items for each shop.but there are some missing values for that column.but we need only the number of unique values.if we fill the missing values.sometimes,this give an error.so we don't fill item_description column"
   ]
  },
  {
   "cell_type": "markdown",
   "id": "ebaff34f",
   "metadata": {},
   "source": [
    "to get the number of unique shop ids "
   ]
  },
  {
   "cell_type": "code",
   "execution_count": 28,
   "id": "dd102cf2",
   "metadata": {},
   "outputs": [
    {
     "name": "stdout",
     "output_type": "stream",
     "text": [
      "number of unique shops =  124\n"
     ]
    }
   ],
   "source": [
    "unique_shop_id_names = store_data['shop_id'].unique()\n",
    "print(\"number of unique shops = \",store_data['shop_id'].nunique())"
   ]
  },
  {
   "cell_type": "markdown",
   "id": "ecfd64dc",
   "metadata": {},
   "source": [
    "we have to find the number of missing values for each column in store_data"
   ]
  },
  {
   "cell_type": "code",
   "execution_count": 29,
   "id": "33e50bdb",
   "metadata": {},
   "outputs": [
    {
     "name": "stdout",
     "output_type": "stream",
     "text": [
      "shop_id  number of missing values =  0\n",
      "shop_area_sq_ft  number of missing values =  0\n",
      "shop_profile  number of missing values =  24\n"
     ]
    }
   ],
   "source": [
    "for col in store_data.columns:\n",
    "    print(col,\" number of missing values = \",store_data[col].isna().sum())"
   ]
  },
  {
   "cell_type": "markdown",
   "id": "fd6afc5a",
   "metadata": {},
   "source": [
    "we can see number of missing values shop_id and shop_area_sq_ft is zero.so,we don't need to use handling misssing values techniques because last shop ids are given to predict"
   ]
  },
  {
   "cell_type": "markdown",
   "id": "51da97b6",
   "metadata": {},
   "source": [
    "we have to get the get the ids of shops to train and predict"
   ]
  },
  {
   "cell_type": "code",
   "execution_count": 30,
   "id": "a6d5eebe",
   "metadata": {},
   "outputs": [
    {
     "name": "stdout",
     "output_type": "stream",
     "text": [
      "nan\n"
     ]
    }
   ],
   "source": [
    "train_shop_id_names=[]\n",
    "predict_shop_id_names=[]\n",
    "for ind in store_data.index:\n",
    "    if(pd.isna(store_data['shop_profile'][ind])):\n",
    "        predict_shop_id_names+=[store_data[\"shop_id\"][ind]]\n",
    "    else:\n",
    "        train_shop_id_names+=[store_data[\"shop_id\"][ind]]\n",
    "print(store_data[\"shop_profile\"][ind])"
   ]
  },
  {
   "cell_type": "code",
   "execution_count": 31,
   "id": "99c0bd49",
   "metadata": {},
   "outputs": [
    {
     "name": "stdout",
     "output_type": "stream",
     "text": [
      "number of shop_id for train =  100\n",
      "number of shop_id for predict =  24\n"
     ]
    }
   ],
   "source": [
    "print(\"number of shop_id for train = \",len(train_shop_id_names))\n",
    "print(\"number of shop_id for predict = \",len(predict_shop_id_names))"
   ]
  },
  {
   "cell_type": "markdown",
   "id": "50678c39",
   "metadata": {},
   "source": [
    "###  create new dataset using previous data"
   ]
  },
  {
   "cell_type": "markdown",
   "id": "5525feae",
   "metadata": {},
   "source": [
    "we have to build new  columns using the transaction_data dataset\n",
    "\n",
    "they are, num_unique_items,\n",
    "          num_unique_customers,\n",
    "          quantity_items,\n",
    "          total_price\n",
    "          \n",
    "we also have to add shop_id,shop_area_sq_ft,shop_profile"
   ]
  },
  {
   "cell_type": "code",
   "execution_count": 32,
   "id": "7ce60fc9",
   "metadata": {},
   "outputs": [],
   "source": [
    "# to create column for total for item\n",
    "transaction_data[\"total_for_items\"]=transaction_data[\"quantity_sold\"]*transaction_data[\"item_price\"]"
   ]
  },
  {
   "cell_type": "code",
   "execution_count": 33,
   "id": "1b797db6",
   "metadata": {},
   "outputs": [],
   "source": [
    "col_names_x=['shop_id','num_unique_items','num_unique_customers','quantity_items','total_price','shop_area_sq_ft']\n",
    "\n",
    "main_data_x=pd.DataFrame(columns=col_names_x)\n",
    "main_data_y=pd.DataFrame(columns=['shop_id',\"shop_profile\"]) "
   ]
  },
  {
   "cell_type": "code",
   "execution_count": 34,
   "id": "04c6bd45",
   "metadata": {},
   "outputs": [],
   "source": [
    "for shop_id in train_shop_id_names:\n",
    "    #print(shop_id)\n",
    "    data_shop=transaction_data[transaction_data['shop_id'] == shop_id]\n",
    "    #print(data_shop.head())\n",
    "    num_unique_items=data_shop[\"item_description\"].nunique()\n",
    "    num_unique_customers=data_shop[\"customer_id\"].nunique()\n",
    "    quantity_items=data_shop[\"quantity_sold\"].nunique()\n",
    "    total_price=data_shop[\"total_for_items\"].sum()\n",
    "    #print(\"num_unique_items = \",num_unique_items,' num_unique_customers = ',num_unique_customers,\" quantity_items = \",quantity_items,\" total_price =\",total_price)\n",
    "    store_data_new=store_data[store_data['shop_id'] == shop_id]\n",
    "    shop_area_sq_ft=store_data_new[\"shop_area_sq_ft\"].iloc[0]\n",
    "    shop_profile=store_data_new[\"shop_profile\"].iloc[0]\n",
    "    #print(\"shop_area_sq_ft = \",shop_area_sq_ft,' shop_profile = ',shop_profile)\n",
    "    new_row_x={'shop_id':shop_id,'num_unique_items':num_unique_items,'num_unique_customers':num_unique_customers,'quantity_items':quantity_items,'total_price':total_price,'shop_area_sq_ft':shop_area_sq_ft}\n",
    "    new_row_y={'shop_id':shop_id,'shop_profile':shop_profile}\n",
    "    main_data_x=pd.concat([main_data_x, pd.DataFrame(new_row_x, index=[0])], ignore_index=True)\n",
    "    main_data_y=pd.concat([main_data_y, pd.DataFrame(new_row_y, index=[0])], ignore_index=True)\n",
    "    \n",
    "    "
   ]
  },
  {
   "cell_type": "markdown",
   "id": "d7a4a835",
   "metadata": {},
   "source": [
    "make index as the \"shop_id\""
   ]
  },
  {
   "cell_type": "code",
   "execution_count": 35,
   "id": "b3c74bfd",
   "metadata": {},
   "outputs": [],
   "source": [
    "main_data_x.set_index(\"shop_id\", inplace=True)\n",
    "main_data_y.set_index(\"shop_id\", inplace=True)\n",
    "# main_data_x = main_data_x.drop(\"shop_id\", axis=1)\n",
    "# main_data_y = main_data_y.drop(\"shop_id\", axis=1)"
   ]
  },
  {
   "cell_type": "code",
   "execution_count": 36,
   "id": "5b0a699b",
   "metadata": {},
   "outputs": [
    {
     "data": {
      "text/html": [
       "<div>\n",
       "<style scoped>\n",
       "    .dataframe tbody tr th:only-of-type {\n",
       "        vertical-align: middle;\n",
       "    }\n",
       "\n",
       "    .dataframe tbody tr th {\n",
       "        vertical-align: top;\n",
       "    }\n",
       "\n",
       "    .dataframe thead th {\n",
       "        text-align: right;\n",
       "    }\n",
       "</style>\n",
       "<table border=\"1\" class=\"dataframe\">\n",
       "  <thead>\n",
       "    <tr style=\"text-align: right;\">\n",
       "      <th></th>\n",
       "      <th>num_unique_items</th>\n",
       "      <th>num_unique_customers</th>\n",
       "      <th>quantity_items</th>\n",
       "      <th>total_price</th>\n",
       "      <th>shop_area_sq_ft</th>\n",
       "    </tr>\n",
       "    <tr>\n",
       "      <th>shop_id</th>\n",
       "      <th></th>\n",
       "      <th></th>\n",
       "      <th></th>\n",
       "      <th></th>\n",
       "      <th></th>\n",
       "    </tr>\n",
       "  </thead>\n",
       "  <tbody>\n",
       "    <tr>\n",
       "      <th>SHOP047</th>\n",
       "      <td>35</td>\n",
       "      <td>928</td>\n",
       "      <td>14</td>\n",
       "      <td>802525</td>\n",
       "      <td>528</td>\n",
       "    </tr>\n",
       "    <tr>\n",
       "      <th>SHOP009</th>\n",
       "      <td>35</td>\n",
       "      <td>2498</td>\n",
       "      <td>18</td>\n",
       "      <td>1891660</td>\n",
       "      <td>676</td>\n",
       "    </tr>\n",
       "    <tr>\n",
       "      <th>SHOP083</th>\n",
       "      <td>36</td>\n",
       "      <td>1900</td>\n",
       "      <td>17</td>\n",
       "      <td>1614960</td>\n",
       "      <td>676</td>\n",
       "    </tr>\n",
       "    <tr>\n",
       "      <th>SHOP117</th>\n",
       "      <td>35</td>\n",
       "      <td>2037</td>\n",
       "      <td>19</td>\n",
       "      <td>2235870</td>\n",
       "      <td>676</td>\n",
       "    </tr>\n",
       "    <tr>\n",
       "      <th>SHOP042</th>\n",
       "      <td>35</td>\n",
       "      <td>1841</td>\n",
       "      <td>16</td>\n",
       "      <td>1276790</td>\n",
       "      <td>676</td>\n",
       "    </tr>\n",
       "  </tbody>\n",
       "</table>\n",
       "</div>"
      ],
      "text/plain": [
       "        num_unique_items num_unique_customers quantity_items total_price  \\\n",
       "shop_id                                                                    \n",
       "SHOP047               35                  928             14      802525   \n",
       "SHOP009               35                 2498             18     1891660   \n",
       "SHOP083               36                 1900             17     1614960   \n",
       "SHOP117               35                 2037             19     2235870   \n",
       "SHOP042               35                 1841             16     1276790   \n",
       "\n",
       "        shop_area_sq_ft  \n",
       "shop_id                  \n",
       "SHOP047             528  \n",
       "SHOP009             676  \n",
       "SHOP083             676  \n",
       "SHOP117             676  \n",
       "SHOP042             676  "
      ]
     },
     "execution_count": 36,
     "metadata": {},
     "output_type": "execute_result"
    }
   ],
   "source": [
    "main_data_x.head()"
   ]
  },
  {
   "cell_type": "markdown",
   "id": "2cb95f24",
   "metadata": {},
   "source": [
    "### shapes of the dataset"
   ]
  },
  {
   "cell_type": "code",
   "execution_count": 37,
   "id": "6eff9ff9",
   "metadata": {},
   "outputs": [
    {
     "data": {
      "image/png": "[encoded data removed]",
      "text/plain": [
       "<Figure size 1400x800 with 6 Axes>"
      ]
     },
     "metadata": {},
     "output_type": "display_data"
    }
   ],
   "source": [
    "import matplotlib.pyplot as plt\n",
    "fig, axes = plt.subplots(nrows=2, ncols=3,figsize=(14,8))\n",
    "\n",
    "i=0\n",
    "for col in main_data_x.columns:\n",
    "    main_data_x[col].plot(kind='kde',ax=axes[i//3,i%3],title=col)\n",
    "    i+=1"
   ]
  },
  {
   "cell_type": "markdown",
   "id": "67350cb5",
   "metadata": {},
   "source": [
    "### find outliers columns"
   ]
  },
  {
   "cell_type": "code",
   "execution_count": 38,
   "id": "ed6daf4b",
   "metadata": {},
   "outputs": [
    {
     "name": "stdout",
     "output_type": "stream",
     "text": [
      "Outlier columns: ['num_unique_items', 'num_unique_customers', 'quantity_items', 'total_price', 'shop_area_sq_ft']\n"
     ]
    }
   ],
   "source": [
    "import numpy as np\n",
    "# Calculate z-scores for each column\n",
    "z_scores = np.abs((main_data_x - main_data_x.mean()) / main_data_x.std())\n",
    "\n",
    "# Identify columns with at least one outlier\n",
    "outlier_cols = z_scores.columns[z_scores.max() > 3].tolist()\n",
    "\n",
    "# Print outlier columns\n",
    "print(\"Outlier columns:\", outlier_cols)"
   ]
  },
  {
   "cell_type": "markdown",
   "id": "3147de7f",
   "metadata": {},
   "source": [
    "### remove outliers "
   ]
  },
  {
   "cell_type": "code",
   "execution_count": 39,
   "id": "4bb4108e",
   "metadata": {},
   "outputs": [],
   "source": [
    "# # Calculate z-scores for each column\n",
    "# z_scores = np.abs((main_data_x - main_data_x.mean()) / main_data_x.std())\n",
    "\n",
    "# # Replace outliers with median\n",
    "# median = main_data_x.median()\n",
    "# removed_outlier_main_data_x = main_data_x.mask(z_scores > 3, median, axis=1)"
   ]
  },
  {
   "cell_type": "markdown",
   "id": "519c8ae0",
   "metadata": {},
   "source": [
    "Removing outliers can help to mitigate the effects of overfitting and improve the performance of the model. However, it's important to carefully consider which data points are considered outliers and whether they should be removed. Some outliers may be genuine data points that are important for the problem you are trying to solve, and removing them may lead to a loss of valuable information."
   ]
  },
  {
   "cell_type": "markdown",
   "id": "f5844fc6",
   "metadata": {},
   "source": [
    "#### we know that Moderate is better than Low.High is better than Moderate.so that \"shop_profile\" is an ordinal data"
   ]
  },
  {
   "cell_type": "code",
   "execution_count": 40,
   "id": "b8c3be5e",
   "metadata": {},
   "outputs": [
    {
     "data": {
      "text/plain": [
       "array(['Moderate', 'High', 'Low'], dtype=object)"
      ]
     },
     "execution_count": 40,
     "metadata": {},
     "output_type": "execute_result"
    }
   ],
   "source": [
    "main_data_y[\"shop_profile\"].unique()"
   ]
  },
  {
   "cell_type": "markdown",
   "id": "70c8634a",
   "metadata": {},
   "source": [
    "we replace Low=0,Moderate=1,High=2"
   ]
  },
  {
   "cell_type": "code",
   "execution_count": 41,
   "id": "6282584d",
   "metadata": {},
   "outputs": [],
   "source": [
    "main_data_y[\"shop_profile\"] = pd.Categorical(main_data_y[\"shop_profile\"], categories=['Low', 'Moderate', 'High'], ordered=True).codes"
   ]
  },
  {
   "cell_type": "code",
   "execution_count": null,
   "id": "99aed254",
   "metadata": {},
   "outputs": [],
   "source": [
    "### drop shop 8\n"
   ]
  },
  {
   "cell_type": "markdown",
   "id": "903a532a",
   "metadata": {},
   "source": [
    "### import neeeded libraries for testing"
   ]
  },
  {
   "cell_type": "code",
   "execution_count": 42,
   "id": "0efca47f",
   "metadata": {},
   "outputs": [],
   "source": [
    "from sklearn.ensemble import RandomForestClassifier\n",
    "from sklearn.model_selection import train_test_split\n",
    "from sklearn.metrics import f1_score\n",
    "from sklearn.neighbors import KNeighborsClassifier\n",
    "from sklearn.metrics import accuracy_score"
   ]
  },
  {
   "cell_type": "markdown",
   "id": "777d15a6",
   "metadata": {},
   "source": [
    "#### Split the dataset into training and testing sets"
   ]
  },
  {
   "cell_type": "code",
   "execution_count": 43,
   "id": "0b530016",
   "metadata": {},
   "outputs": [],
   "source": [
    "X_train, X_test, y_train, y_test = train_test_split(main_data_x, main_data_y, test_size=0.3, random_state=42)"
   ]
  },
  {
   "cell_type": "markdown",
   "id": "86fe5323",
   "metadata": {},
   "source": [
    "#### for testing purpose we need only one column.so that get only one column"
   ]
  },
  {
   "cell_type": "code",
   "execution_count": 44,
   "id": "af6c75fc",
   "metadata": {},
   "outputs": [],
   "source": [
    "y_train = y_train['shop_profile'].values.ravel()\n",
    "y_test = y_test['shop_profile'].values.ravel()"
   ]
  },
  {
   "cell_type": "markdown",
   "id": "6ddc0d6d",
   "metadata": {},
   "source": [
    "### Random Forest Classifier"
   ]
  },
  {
   "cell_type": "code",
   "execution_count": 45,
   "id": "ad0706c2",
   "metadata": {},
   "outputs": [
    {
     "name": "stdout",
     "output_type": "stream",
     "text": [
      "Accuracy using model: 76.67%\n",
      "F1 score for random forest : 0.7673486786018755\n"
     ]
    }
   ],
   "source": [
    "# Choose hyperparameters\n",
    "n_estimators = 200\n",
    "max_depth = 50\n",
    "\n",
    "\n",
    "# Train the model\n",
    "model = RandomForestClassifier(n_estimators=n_estimators, max_depth=max_depth, random_state=42)\n",
    "model.fit(X_train, y_train)\n",
    "\n",
    "\n",
    "# Evaluate the model\n",
    "score = model.score(X_test, y_test)\n",
    "print(\"Accuracy using model: {:.2f}%\".format(score * 100))\n",
    "\n",
    "# Predict with the model\n",
    "y_pred = model.predict(X_test)\n",
    "\n",
    "f1 = f1_score(y_test, y_pred, average='weighted')\n",
    "\n",
    "print('F1 score for random forest :', f1)"
   ]
  },
  {
   "cell_type": "markdown",
   "id": "8e7596e0",
   "metadata": {},
   "source": [
    "### KNN alorithm"
   ]
  },
  {
   "cell_type": "code",
   "execution_count": 46,
   "id": "b7bb5f85",
   "metadata": {},
   "outputs": [
    {
     "name": "stdout",
     "output_type": "stream",
     "text": [
      "F1 score: 0.6058574879227053\n"
     ]
    }
   ],
   "source": [
    "knn = KNeighborsClassifier(n_neighbors=1)\n",
    "\n",
    "# train the model\n",
    "knn.fit(X_train, y_train)\n",
    "\n",
    "# predict the classes for the test set\n",
    "y_pred = knn.predict(X_test)\n",
    "\n",
    "# calculate the accuracy of the model\n",
    "f1 = f1_score(y_test, y_pred, average='weighted')\n",
    "\n",
    "print('F1 score:', f1)"
   ]
  },
  {
   "cell_type": "markdown",
   "id": "24efe245",
   "metadata": {},
   "source": [
    "### Cross validation score for Random Forest"
   ]
  },
  {
   "cell_type": "code",
   "execution_count": 47,
   "id": "706eccab",
   "metadata": {},
   "outputs": [
    {
     "name": "stdout",
     "output_type": "stream",
     "text": [
      "Mean score: 0.6007130124777184\n",
      "Standard deviation: 0.050417595806527445\n",
      "F1 score: 0.5676345259678593\n"
     ]
    }
   ],
   "source": [
    "from sklearn.model_selection import cross_val_score\n",
    "\n",
    "n_estimators = 200\n",
    "max_depth = 50\n",
    "\n",
    "main_data_y_cross = main_data_y['shop_profile'].values.ravel()\n",
    "\n",
    "# Train the model\n",
    "rf = RandomForestClassifier(n_estimators=n_estimators, max_depth=max_depth)\n",
    "scores = cross_val_score(rf, main_data_x,main_data_y_cross, cv=3)\n",
    "f1_scores = cross_val_score(rf,main_data_x,main_data_y_cross, cv=3, scoring='f1_macro')\n",
    "\n",
    "print(\"Mean score:\", scores.mean())\n",
    "print(\"Standard deviation:\", scores.std())\n",
    "print(\"F1 score:\", f1_scores.mean())"
   ]
  },
  {
   "cell_type": "markdown",
   "id": "0a29b44b",
   "metadata": {},
   "source": [
    "## save data to file"
   ]
  },
  {
   "cell_type": "code",
   "execution_count": 48,
   "id": "5eb547dd",
   "metadata": {},
   "outputs": [],
   "source": [
    "import pandas as pd\n",
    "col_names_x=['shop_id','num_unique_items','num_unique_customers','quantity_items','total_price','shop_area_sq_ft']\n",
    "\n",
    "test_data_x=pd.DataFrame(columns=col_names_x)\n",
    "test_data_y=pd.DataFrame(columns=['shop_id',\"shop_profile\"])"
   ]
  },
  {
   "cell_type": "code",
   "execution_count": 49,
   "id": "aa4e9fc5",
   "metadata": {},
   "outputs": [],
   "source": [
    "for shop_id in predict_shop_id_names:\n",
    "    #print(shop_id)\n",
    "    data_shop=transaction_data[transaction_data['shop_id'] == shop_id]\n",
    "    #print(data_shop.head())\n",
    "    num_unique_items=data_shop[\"item_description\"].nunique()\n",
    "    num_unique_customers=data_shop[\"customer_id\"].nunique()\n",
    "    quantity_items=data_shop[\"quantity_sold\"].nunique()\n",
    "    total_price=data_shop[\"total_for_items\"].sum()\n",
    "    #print(\"num_unique_items = \",num_unique_items,' num_unique_customers = ',num_unique_customers,\" quantity_items = \",quantity_items,\" total_price =\",total_price)\n",
    "    store_data_new=store_data[store_data['shop_id'] == shop_id]\n",
    "    shop_area_sq_ft=store_data_new[\"shop_area_sq_ft\"].iloc[0]\n",
    "    shop_profile=store_data_new[\"shop_profile\"].iloc[0]\n",
    "    #print(\"shop_area_sq_ft = \",shop_area_sq_ft,' shop_profile = ',shop_profile)\n",
    "    new_row_x={'shop_id':shop_id,'num_unique_items':num_unique_items,'num_unique_customers':num_unique_customers,'quantity_items':quantity_items,'total_price':total_price,'shop_area_sq_ft':shop_area_sq_ft}\n",
    "    new_row_y={'shop_id':shop_id,'shop_profile':shop_profile}\n",
    "    test_data_x=pd.concat([test_data_x, pd.DataFrame(new_row_x, index=[0])], ignore_index=True)\n",
    "    test_data_y=pd.concat([test_data_y, pd.DataFrame(new_row_y, index=[0])], ignore_index=True)"
   ]
  },
  {
   "cell_type": "code",
   "execution_count": 50,
   "id": "5f26d52a",
   "metadata": {},
   "outputs": [],
   "source": [
    "test_data_x.set_index(\"shop_id\", inplace=True)\n",
    "# test_data_x = test_data_x.drop(\"shop_id\", axis=1)"
   ]
  },
  {
   "cell_type": "code",
   "execution_count": 51,
   "id": "e7ac0839",
   "metadata": {},
   "outputs": [
    {
     "data": {
      "text/html": [
       "<div>\n",
       "<style scoped>\n",
       "    .dataframe tbody tr th:only-of-type {\n",
       "        vertical-align: middle;\n",
       "    }\n",
       "\n",
       "    .dataframe tbody tr th {\n",
       "        vertical-align: top;\n",
       "    }\n",
       "\n",
       "    .dataframe thead th {\n",
       "        text-align: right;\n",
       "    }\n",
       "</style>\n",
       "<table border=\"1\" class=\"dataframe\">\n",
       "  <thead>\n",
       "    <tr style=\"text-align: right;\">\n",
       "      <th></th>\n",
       "      <th>shop_profile</th>\n",
       "    </tr>\n",
       "    <tr>\n",
       "      <th>shop_id</th>\n",
       "      <th></th>\n",
       "    </tr>\n",
       "  </thead>\n",
       "  <tbody>\n",
       "    <tr>\n",
       "      <th>SHOP047</th>\n",
       "      <td>1</td>\n",
       "    </tr>\n",
       "    <tr>\n",
       "      <th>SHOP009</th>\n",
       "      <td>2</td>\n",
       "    </tr>\n",
       "    <tr>\n",
       "      <th>SHOP083</th>\n",
       "      <td>0</td>\n",
       "    </tr>\n",
       "    <tr>\n",
       "      <th>SHOP117</th>\n",
       "      <td>0</td>\n",
       "    </tr>\n",
       "    <tr>\n",
       "      <th>SHOP042</th>\n",
       "      <td>0</td>\n",
       "    </tr>\n",
       "    <tr>\n",
       "      <th>...</th>\n",
       "      <td>...</td>\n",
       "    </tr>\n",
       "    <tr>\n",
       "      <th>SHOP124</th>\n",
       "      <td>2</td>\n",
       "    </tr>\n",
       "    <tr>\n",
       "      <th>SHOP012</th>\n",
       "      <td>0</td>\n",
       "    </tr>\n",
       "    <tr>\n",
       "      <th>SHOP093</th>\n",
       "      <td>2</td>\n",
       "    </tr>\n",
       "    <tr>\n",
       "      <th>SHOP004</th>\n",
       "      <td>0</td>\n",
       "    </tr>\n",
       "    <tr>\n",
       "      <th>SHOP101</th>\n",
       "      <td>2</td>\n",
       "    </tr>\n",
       "  </tbody>\n",
       "</table>\n",
       "<p>100 rows × 1 columns</p>\n",
       "</div>"
      ],
      "text/plain": [
       "         shop_profile\n",
       "shop_id              \n",
       "SHOP047             1\n",
       "SHOP009             2\n",
       "SHOP083             0\n",
       "SHOP117             0\n",
       "SHOP042             0\n",
       "...               ...\n",
       "SHOP124             2\n",
       "SHOP012             0\n",
       "SHOP093             2\n",
       "SHOP004             0\n",
       "SHOP101             2\n",
       "\n",
       "[100 rows x 1 columns]"
      ]
     },
     "execution_count": 51,
     "metadata": {},
     "output_type": "execute_result"
    }
   ],
   "source": [
    "main_data_y"
   ]
  },
  {
   "cell_type": "markdown",
   "id": "6ad7f88e",
   "metadata": {},
   "source": [
    "### save data using Random Forest"
   ]
  },
  {
   "cell_type": "markdown",
   "id": "4d0f7f6b",
   "metadata": {},
   "source": [
    "to change to ravel"
   ]
  },
  {
   "cell_type": "code",
   "execution_count": 52,
   "id": "410e034d",
   "metadata": {},
   "outputs": [],
   "source": [
    "main_data_y= main_data_y['shop_profile'].values.ravel()"
   ]
  },
  {
   "cell_type": "code",
   "execution_count": 53,
   "id": "18209625",
   "metadata": {},
   "outputs": [
    {
     "name": "stdout",
     "output_type": "stream",
     "text": [
      "[2 0 1 1 1 2 0 0 2 0 2 0 0 2 1 0 0 2 2 1 0 0 2 0]\n"
     ]
    }
   ],
   "source": [
    "# Choose hyperparameters\n",
    "n_estimators = 200\n",
    "max_depth = 50\n",
    "\n",
    "\n",
    "# Train the model\n",
    "model = RandomForestClassifier(n_estimators=n_estimators, max_depth=max_depth, random_state=42)\n",
    "model.fit(main_data_x, main_data_y)\n",
    "\n",
    "\n",
    "# Predict with the model\n",
    "y_pred_test = model.predict(test_data_x)\n",
    "\n",
    "print(y_pred_test)"
   ]
  },
  {
   "cell_type": "markdown",
   "id": "fc9d7218",
   "metadata": {},
   "source": [
    "#### covert into again y_pred_test into 'Low', 'Moderate', 'High'"
   ]
  },
  {
   "cell_type": "code",
   "execution_count": 54,
   "id": "a75a7e49",
   "metadata": {},
   "outputs": [],
   "source": [
    "y_pred_test = [\"Low\" if item==0 else \"Moderate\" if item==1 else \"High\" for item in y_pred_test]"
   ]
  },
  {
   "cell_type": "code",
   "execution_count": 55,
   "id": "7ab0422b",
   "metadata": {},
   "outputs": [
    {
     "name": "stdout",
     "output_type": "stream",
     "text": [
      "['High', 'Low', 'Moderate', 'Moderate', 'Moderate', 'High', 'Low', 'Low', 'High', 'Low', 'High', 'Low', 'Low', 'High', 'Moderate', 'Low', 'Low', 'High', 'High', 'Moderate', 'Low', 'Low', 'High', 'Low']\n"
     ]
    }
   ],
   "source": [
    "print(y_pred_test)"
   ]
  },
  {
   "cell_type": "code",
   "execution_count": 56,
   "id": "b4e7a2a5",
   "metadata": {},
   "outputs": [],
   "source": [
    "test_data_y['shop_profile'] = y_pred_test"
   ]
  },
  {
   "cell_type": "code",
   "execution_count": 57,
   "id": "6739bc57",
   "metadata": {},
   "outputs": [
    {
     "data": {
      "text/html": [
       "<div>\n",
       "<style scoped>\n",
       "    .dataframe tbody tr th:only-of-type {\n",
       "        vertical-align: middle;\n",
       "    }\n",
       "\n",
       "    .dataframe tbody tr th {\n",
       "        vertical-align: top;\n",
       "    }\n",
       "\n",
       "    .dataframe thead th {\n",
       "        text-align: right;\n",
       "    }\n",
       "</style>\n",
       "<table border=\"1\" class=\"dataframe\">\n",
       "  <thead>\n",
       "    <tr style=\"text-align: right;\">\n",
       "      <th></th>\n",
       "      <th>shop_id</th>\n",
       "      <th>shop_profile</th>\n",
       "    </tr>\n",
       "  </thead>\n",
       "  <tbody>\n",
       "    <tr>\n",
       "      <th>0</th>\n",
       "      <td>SHOP046</td>\n",
       "      <td>High</td>\n",
       "    </tr>\n",
       "    <tr>\n",
       "      <th>1</th>\n",
       "      <td>SHOP024</td>\n",
       "      <td>Low</td>\n",
       "    </tr>\n",
       "    <tr>\n",
       "      <th>2</th>\n",
       "      <td>SHOP023</td>\n",
       "      <td>Moderate</td>\n",
       "    </tr>\n",
       "    <tr>\n",
       "      <th>3</th>\n",
       "      <td>SHOP097</td>\n",
       "      <td>Moderate</td>\n",
       "    </tr>\n",
       "    <tr>\n",
       "      <th>4</th>\n",
       "      <td>SHOP044</td>\n",
       "      <td>Moderate</td>\n",
       "    </tr>\n",
       "  </tbody>\n",
       "</table>\n",
       "</div>"
      ],
      "text/plain": [
       "   shop_id shop_profile\n",
       "0  SHOP046         High\n",
       "1  SHOP024          Low\n",
       "2  SHOP023     Moderate\n",
       "3  SHOP097     Moderate\n",
       "4  SHOP044     Moderate"
      ]
     },
     "execution_count": 57,
     "metadata": {},
     "output_type": "execute_result"
    }
   ],
   "source": [
    "test_data_y.head()"
   ]
  },
  {
   "cell_type": "markdown",
   "id": "d99cbe91",
   "metadata": {},
   "source": [
    "#### Save into the file"
   ]
  },
  {
   "cell_type": "code",
   "execution_count": 58,
   "id": "58628c0f",
   "metadata": {},
   "outputs": [],
   "source": [
    "test_data_y.to_csv('Testing-data-2.csv', index=False)"
   ]
  },
  {
   "cell_type": "markdown",
   "id": "e810a486",
   "metadata": {},
   "source": [
    "### end"
   ]
  },
  {
   "cell_type": "code",
   "execution_count": null,
   "id": "e411a19d",
   "metadata": {},
   "outputs": [],
   "source": []
  }
 ],
 "metadata": {
  "kernelspec": {
   "display_name": "Python 3 (ipykernel)",
   "language": "python",
   "name": "python3"
  },
  "language_info": {
   "codemirror_mode": {
    "name": "ipython",
    "version": 3
   },
   "file_extension": ".py",
   "mimetype": "text/x-python",
   "name": "python",
   "nbconvert_exporter": "python",
   "pygments_lexer": "ipython3",
   "version": "3.11.3"
  }
 },
 "nbformat": 4,
 "nbformat_minor": 5
}
