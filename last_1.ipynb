{
 "cells": [
  {
   "cell_type": "markdown",
   "id": "6c8a07e6",
   "metadata": {},
   "source": [
    "## data storm 4.0 group 095"
   ]
  },
  {
   "cell_type": "markdown",
   "id": "6ff4fa88",
   "metadata": {},
   "source": [
    "### import needed libraries"
   ]
  },
  {
   "cell_type": "code",
   "execution_count": 279,
   "id": "988aedcb",
   "metadata": {},
   "outputs": [],
   "source": [
    "import pandas as pd\n",
    "import numpy as np"
   ]
  },
  {
   "cell_type": "markdown",
   "id": "22b4ae01",
   "metadata": {},
   "source": [
    "### import data into code"
   ]
  },
  {
   "cell_type": "code",
   "execution_count": 280,
   "id": "3c3b2911",
   "metadata": {},
   "outputs": [],
   "source": [
    "transaction_data=pd.read_csv(\"../data/Historical-transaction-data.csv\")\n",
    "store_data=pd.read_csv(\"../data/Store-info.csv\")"
   ]
  },
  {
   "cell_type": "markdown",
   "id": "c07b02de",
   "metadata": {},
   "source": [
    "get the first few rows of the transaction_data and store_data"
   ]
  },
  {
   "cell_type": "code",
   "execution_count": 281,
   "id": "eb9314d3",
   "metadata": {},
   "outputs": [
    {
     "data": {
      "text/html": [
       "<div>\n",
       "<style scoped>\n",
       "    .dataframe tbody tr th:only-of-type {\n",
       "        vertical-align: middle;\n",
       "    }\n",
       "\n",
       "    .dataframe tbody tr th {\n",
       "        vertical-align: top;\n",
       "    }\n",
       "\n",
       "    .dataframe thead th {\n",
       "        text-align: right;\n",
       "    }\n",
       "</style>\n",
       "<table border=\"1\" class=\"dataframe\">\n",
       "  <thead>\n",
       "    <tr style=\"text-align: right;\">\n",
       "      <th></th>\n",
       "      <th>shop_id</th>\n",
       "      <th>shop_area_sq_ft</th>\n",
       "      <th>shop_profile</th>\n",
       "    </tr>\n",
       "  </thead>\n",
       "  <tbody>\n",
       "    <tr>\n",
       "      <th>0</th>\n",
       "      <td>SHOP047</td>\n",
       "      <td>528</td>\n",
       "      <td>Moderate</td>\n",
       "    </tr>\n",
       "    <tr>\n",
       "      <th>1</th>\n",
       "      <td>SHOP009</td>\n",
       "      <td>676</td>\n",
       "      <td>High</td>\n",
       "    </tr>\n",
       "    <tr>\n",
       "      <th>2</th>\n",
       "      <td>SHOP083</td>\n",
       "      <td>676</td>\n",
       "      <td>Low</td>\n",
       "    </tr>\n",
       "    <tr>\n",
       "      <th>3</th>\n",
       "      <td>SHOP117</td>\n",
       "      <td>676</td>\n",
       "      <td>Low</td>\n",
       "    </tr>\n",
       "    <tr>\n",
       "      <th>4</th>\n",
       "      <td>SHOP042</td>\n",
       "      <td>676</td>\n",
       "      <td>Low</td>\n",
       "    </tr>\n",
       "  </tbody>\n",
       "</table>\n",
       "</div>"
      ],
      "text/plain": [
       "   shop_id  shop_area_sq_ft shop_profile\n",
       "0  SHOP047              528     Moderate\n",
       "1  SHOP009              676         High\n",
       "2  SHOP083              676          Low\n",
       "3  SHOP117              676          Low\n",
       "4  SHOP042              676          Low"
      ]
     },
     "execution_count": 281,
     "metadata": {},
     "output_type": "execute_result"
    }
   ],
   "source": [
    "store_data.head()"
   ]
  },
  {
   "cell_type": "code",
   "execution_count": 282,
   "id": "bb34e084",
   "metadata": {},
   "outputs": [
    {
     "data": {
      "text/html": [
       "<div>\n",
       "<style scoped>\n",
       "    .dataframe tbody tr th:only-of-type {\n",
       "        vertical-align: middle;\n",
       "    }\n",
       "\n",
       "    .dataframe tbody tr th {\n",
       "        vertical-align: top;\n",
       "    }\n",
       "\n",
       "    .dataframe thead th {\n",
       "        text-align: right;\n",
       "    }\n",
       "</style>\n",
       "<table border=\"1\" class=\"dataframe\">\n",
       "  <thead>\n",
       "    <tr style=\"text-align: right;\">\n",
       "      <th></th>\n",
       "      <th>item_description</th>\n",
       "      <th>transaction_date</th>\n",
       "      <th>invoice_id</th>\n",
       "      <th>customer_id</th>\n",
       "      <th>shop_id</th>\n",
       "      <th>item_price</th>\n",
       "      <th>quantity_sold</th>\n",
       "    </tr>\n",
       "  </thead>\n",
       "  <tbody>\n",
       "    <tr>\n",
       "      <th>0</th>\n",
       "      <td>ORANGE BARLEY 1.5L</td>\n",
       "      <td>2021-12-11T00:00:00.000Z</td>\n",
       "      <td>147.0</td>\n",
       "      <td>BGXA</td>\n",
       "      <td>SHOP008</td>\n",
       "      <td>220</td>\n",
       "      <td>2</td>\n",
       "    </tr>\n",
       "    <tr>\n",
       "      <th>1</th>\n",
       "      <td>GINGER BEER 1.5L</td>\n",
       "      <td>2021-10-17T00:00:00.000Z</td>\n",
       "      <td>371.0</td>\n",
       "      <td>IA25</td>\n",
       "      <td>SHOP112</td>\n",
       "      <td>220</td>\n",
       "      <td>2</td>\n",
       "    </tr>\n",
       "    <tr>\n",
       "      <th>2</th>\n",
       "      <td>TONIC PET 500ML</td>\n",
       "      <td>2021-12-13T00:00:00.000Z</td>\n",
       "      <td>484.0</td>\n",
       "      <td>VN7V</td>\n",
       "      <td>SHOP008</td>\n",
       "      <td>160</td>\n",
       "      <td>2</td>\n",
       "    </tr>\n",
       "    <tr>\n",
       "      <th>3</th>\n",
       "      <td>CREAM SODA 1L</td>\n",
       "      <td>2021-12-13T00:00:00.000Z</td>\n",
       "      <td>484.0</td>\n",
       "      <td>VN7V</td>\n",
       "      <td>SHOP008</td>\n",
       "      <td>150</td>\n",
       "      <td>2</td>\n",
       "    </tr>\n",
       "    <tr>\n",
       "      <th>4</th>\n",
       "      <td>STRAWBERRY MILK 180ML</td>\n",
       "      <td>2021-10-23T00:00:00.000Z</td>\n",
       "      <td>1310.0</td>\n",
       "      <td>7S00</td>\n",
       "      <td>SHOP112</td>\n",
       "      <td>210</td>\n",
       "      <td>5</td>\n",
       "    </tr>\n",
       "  </tbody>\n",
       "</table>\n",
       "</div>"
      ],
      "text/plain": [
       "        item_description          transaction_date  invoice_id customer_id  \\\n",
       "0     ORANGE BARLEY 1.5L  2021-12-11T00:00:00.000Z       147.0        BGXA   \n",
       "1       GINGER BEER 1.5L  2021-10-17T00:00:00.000Z       371.0        IA25   \n",
       "2        TONIC PET 500ML  2021-12-13T00:00:00.000Z       484.0        VN7V   \n",
       "3          CREAM SODA 1L  2021-12-13T00:00:00.000Z       484.0        VN7V   \n",
       "4  STRAWBERRY MILK 180ML  2021-10-23T00:00:00.000Z      1310.0        7S00   \n",
       "\n",
       "   shop_id  item_price  quantity_sold  \n",
       "0  SHOP008         220              2  \n",
       "1  SHOP112         220              2  \n",
       "2  SHOP008         160              2  \n",
       "3  SHOP008         150              2  \n",
       "4  SHOP112         210              5  "
      ]
     },
     "execution_count": 282,
     "metadata": {},
     "output_type": "execute_result"
    }
   ],
   "source": [
    "transaction_data.head()"
   ]
  },
  {
   "cell_type": "markdown",
   "id": "ea3842d8",
   "metadata": {},
   "source": [
    "## Data pre-processing"
   ]
  },
  {
   "cell_type": "markdown",
   "id": "23675444",
   "metadata": {},
   "source": [
    "### remove unwnated data and get the important data"
   ]
  },
  {
   "cell_type": "markdown",
   "id": "6fa313a6",
   "metadata": {},
   "source": [
    "In this step,we have to extract the details from the transaction_data.we think most important feature is the price. we also have to consider the number of items,the number of customers,number of different items sold"
   ]
  },
  {
   "cell_type": "markdown",
   "id": "ba5713c6",
   "metadata": {},
   "source": [
    "we know that each row should be unique becuase if shop buy same product then quantity_sold should be increased.we think if duplicate row means there is a problem in data entering.data set should be consistent.so we have to remove duplicate values"
   ]
  },
  {
   "cell_type": "code",
   "execution_count": 283,
   "id": "a75470c5",
   "metadata": {},
   "outputs": [
    {
     "name": "stdout",
     "output_type": "stream",
     "text": [
      "number of duplicate invoices =  31211\n"
     ]
    }
   ],
   "source": [
    "duplicate_invoice=transaction_data.duplicated().sum()\n",
    "print(\"number of duplicate invoices = \",duplicate_invoice)"
   ]
  },
  {
   "cell_type": "code",
   "execution_count": 284,
   "id": "45120ed1",
   "metadata": {},
   "outputs": [
    {
     "name": "stdout",
     "output_type": "stream",
     "text": [
      "duplicate columns as percentage =  6.58496035647525\n"
     ]
    }
   ],
   "source": [
    "print(\"duplicate columns as percentage = \",duplicate_invoice/transaction_data.shape[0]*100)"
   ]
  },
  {
   "cell_type": "markdown",
   "id": "9d1a9ee1",
   "metadata": {},
   "source": [
    "### drop values in row"
   ]
  },
  {
   "cell_type": "code",
   "execution_count": 285,
   "id": "6a10d7bb",
   "metadata": {},
   "outputs": [],
   "source": [
    "transaction_data= transaction_data.dropna()"
   ]
  },
  {
   "cell_type": "code",
   "execution_count": 286,
   "id": "53bdf6f9",
   "metadata": {},
   "outputs": [],
   "source": [
    "# to drop the duplicates\n",
    "transaction_data=transaction_data.drop_duplicates()"
   ]
  },
  {
   "cell_type": "markdown",
   "id": "13b17757",
   "metadata": {},
   "source": [
    "to group by shop_id"
   ]
  },
  {
   "cell_type": "code",
   "execution_count": 287,
   "id": "51c404d8",
   "metadata": {},
   "outputs": [],
   "source": [
    "grouped_transaction_data = transaction_data.groupby('shop_id')"
   ]
  },
  {
   "cell_type": "code",
   "execution_count": 288,
   "id": "36ac30f1",
   "metadata": {},
   "outputs": [
    {
     "data": {
      "text/html": [
       "<div>\n",
       "<style scoped>\n",
       "    .dataframe tbody tr th:only-of-type {\n",
       "        vertical-align: middle;\n",
       "    }\n",
       "\n",
       "    .dataframe tbody tr th {\n",
       "        vertical-align: top;\n",
       "    }\n",
       "\n",
       "    .dataframe thead th {\n",
       "        text-align: right;\n",
       "    }\n",
       "</style>\n",
       "<table border=\"1\" class=\"dataframe\">\n",
       "  <thead>\n",
       "    <tr style=\"text-align: right;\">\n",
       "      <th></th>\n",
       "      <th>item_description</th>\n",
       "      <th>transaction_date</th>\n",
       "      <th>invoice_id</th>\n",
       "      <th>customer_id</th>\n",
       "      <th>shop_id</th>\n",
       "      <th>item_price</th>\n",
       "      <th>quantity_sold</th>\n",
       "    </tr>\n",
       "  </thead>\n",
       "  <tbody>\n",
       "    <tr>\n",
       "      <th>0</th>\n",
       "      <td>ORANGE BARLEY 1.5L</td>\n",
       "      <td>2021-12-11T00:00:00.000Z</td>\n",
       "      <td>147.0</td>\n",
       "      <td>BGXA</td>\n",
       "      <td>SHOP008</td>\n",
       "      <td>220</td>\n",
       "      <td>2</td>\n",
       "    </tr>\n",
       "    <tr>\n",
       "      <th>1</th>\n",
       "      <td>GINGER BEER 1.5L</td>\n",
       "      <td>2021-10-17T00:00:00.000Z</td>\n",
       "      <td>371.0</td>\n",
       "      <td>IA25</td>\n",
       "      <td>SHOP112</td>\n",
       "      <td>220</td>\n",
       "      <td>2</td>\n",
       "    </tr>\n",
       "    <tr>\n",
       "      <th>2</th>\n",
       "      <td>TONIC PET 500ML</td>\n",
       "      <td>2021-12-13T00:00:00.000Z</td>\n",
       "      <td>484.0</td>\n",
       "      <td>VN7V</td>\n",
       "      <td>SHOP008</td>\n",
       "      <td>160</td>\n",
       "      <td>2</td>\n",
       "    </tr>\n",
       "    <tr>\n",
       "      <th>3</th>\n",
       "      <td>CREAM SODA 1L</td>\n",
       "      <td>2021-12-13T00:00:00.000Z</td>\n",
       "      <td>484.0</td>\n",
       "      <td>VN7V</td>\n",
       "      <td>SHOP008</td>\n",
       "      <td>150</td>\n",
       "      <td>2</td>\n",
       "    </tr>\n",
       "    <tr>\n",
       "      <th>4</th>\n",
       "      <td>STRAWBERRY MILK 180ML</td>\n",
       "      <td>2021-10-23T00:00:00.000Z</td>\n",
       "      <td>1310.0</td>\n",
       "      <td>7S00</td>\n",
       "      <td>SHOP112</td>\n",
       "      <td>210</td>\n",
       "      <td>5</td>\n",
       "    </tr>\n",
       "    <tr>\n",
       "      <th>...</th>\n",
       "      <td>...</td>\n",
       "      <td>...</td>\n",
       "      <td>...</td>\n",
       "      <td>...</td>\n",
       "      <td>...</td>\n",
       "      <td>...</td>\n",
       "      <td>...</td>\n",
       "    </tr>\n",
       "    <tr>\n",
       "      <th>5032</th>\n",
       "      <td>CREAM SODA 500ML</td>\n",
       "      <td>2021-10-16T00:00:00.000Z</td>\n",
       "      <td>1471404.0</td>\n",
       "      <td>6JBA</td>\n",
       "      <td>SHOP072</td>\n",
       "      <td>100</td>\n",
       "      <td>2</td>\n",
       "    </tr>\n",
       "    <tr>\n",
       "      <th>5035</th>\n",
       "      <td>CREAM SODA 500ML</td>\n",
       "      <td>2021-10-16T00:00:00.000Z</td>\n",
       "      <td>1471404.0</td>\n",
       "      <td>6JBA</td>\n",
       "      <td>SHOP072</td>\n",
       "      <td>100</td>\n",
       "      <td>0</td>\n",
       "    </tr>\n",
       "    <tr>\n",
       "      <th>5036</th>\n",
       "      <td>GINGER BEER 1.5L</td>\n",
       "      <td>2021-10-16T00:00:00.000Z</td>\n",
       "      <td>1471453.0</td>\n",
       "      <td>0XKY</td>\n",
       "      <td>SHOP072</td>\n",
       "      <td>220</td>\n",
       "      <td>2</td>\n",
       "    </tr>\n",
       "    <tr>\n",
       "      <th>5037</th>\n",
       "      <td>SODA 1L</td>\n",
       "      <td>2021-10-18T00:00:00.000Z</td>\n",
       "      <td>1471929.0</td>\n",
       "      <td>PDP9</td>\n",
       "      <td>SHOP072</td>\n",
       "      <td>550</td>\n",
       "      <td>6</td>\n",
       "    </tr>\n",
       "    <tr>\n",
       "      <th>5038</th>\n",
       "      <td>GINGER BEER 1.5L</td>\n",
       "      <td>2021-10-19T00:00:00.000Z</td>\n",
       "      <td>1472118.0</td>\n",
       "      <td>CTB0</td>\n",
       "      <td>SHOP072</td>\n",
       "      <td>440</td>\n",
       "      <td>2</td>\n",
       "    </tr>\n",
       "  </tbody>\n",
       "</table>\n",
       "<p>620 rows × 7 columns</p>\n",
       "</div>"
      ],
      "text/plain": [
       "           item_description          transaction_date  invoice_id customer_id  \\\n",
       "0        ORANGE BARLEY 1.5L  2021-12-11T00:00:00.000Z       147.0        BGXA   \n",
       "1          GINGER BEER 1.5L  2021-10-17T00:00:00.000Z       371.0        IA25   \n",
       "2           TONIC PET 500ML  2021-12-13T00:00:00.000Z       484.0        VN7V   \n",
       "3             CREAM SODA 1L  2021-12-13T00:00:00.000Z       484.0        VN7V   \n",
       "4     STRAWBERRY MILK 180ML  2021-10-23T00:00:00.000Z      1310.0        7S00   \n",
       "...                     ...                       ...         ...         ...   \n",
       "5032       CREAM SODA 500ML  2021-10-16T00:00:00.000Z   1471404.0        6JBA   \n",
       "5035       CREAM SODA 500ML  2021-10-16T00:00:00.000Z   1471404.0        6JBA   \n",
       "5036       GINGER BEER 1.5L  2021-10-16T00:00:00.000Z   1471453.0        0XKY   \n",
       "5037                SODA 1L  2021-10-18T00:00:00.000Z   1471929.0        PDP9   \n",
       "5038       GINGER BEER 1.5L  2021-10-19T00:00:00.000Z   1472118.0        CTB0   \n",
       "\n",
       "      shop_id  item_price  quantity_sold  \n",
       "0     SHOP008         220              2  \n",
       "1     SHOP112         220              2  \n",
       "2     SHOP008         160              2  \n",
       "3     SHOP008         150              2  \n",
       "4     SHOP112         210              5  \n",
       "...       ...         ...            ...  \n",
       "5032  SHOP072         100              2  \n",
       "5035  SHOP072         100              0  \n",
       "5036  SHOP072         220              2  \n",
       "5037  SHOP072         550              6  \n",
       "5038  SHOP072         440              2  \n",
       "\n",
       "[620 rows x 7 columns]"
      ]
     },
     "execution_count": 288,
     "metadata": {},
     "output_type": "execute_result"
    }
   ],
   "source": [
    "grouped_transaction_data.head()"
   ]
  },
  {
   "cell_type": "markdown",
   "id": "a55ce8c3",
   "metadata": {},
   "source": [
    "### to get the number of unique values for given column"
   ]
  },
  {
   "cell_type": "code",
   "execution_count": 289,
   "id": "98b742e5",
   "metadata": {},
   "outputs": [
    {
     "name": "stdout",
     "output_type": "stream",
     "text": [
      "item_description  number of unique values =  37\n",
      "transaction_date  number of unique values =  62\n",
      "invoice_id  number of unique values =  319469\n",
      "customer_id  number of unique values =  179923\n",
      "shop_id  number of unique values =  124\n",
      "item_price  number of unique values =  183\n",
      "quantity_sold  number of unique values =  66\n"
     ]
    }
   ],
   "source": [
    "for col in transaction_data.columns:\n",
    "    print(col,\" number of unique values = \",transaction_data[col].nunique())"
   ]
  },
  {
   "cell_type": "markdown",
   "id": "ddaadc45",
   "metadata": {},
   "source": [
    "### replace the nan values in description with \"nothing\""
   ]
  },
  {
   "cell_type": "code",
   "execution_count": 290,
   "id": "3bf26250",
   "metadata": {},
   "outputs": [],
   "source": [
    "transaction_data['item_description'].fillna(value=\"nothing\", inplace=True)"
   ]
  },
  {
   "cell_type": "markdown",
   "id": "942c33aa",
   "metadata": {},
   "source": [
    "### to get the number of missing values for each column"
   ]
  },
  {
   "cell_type": "code",
   "execution_count": 291,
   "id": "ba868999",
   "metadata": {},
   "outputs": [
    {
     "name": "stdout",
     "output_type": "stream",
     "text": [
      "item_description  number of missing values =  0.0\n",
      "transaction_date  number of missing values =  0.0\n",
      "invoice_id  number of missing values =  0.0\n",
      "customer_id  number of missing values =  0.0\n",
      "shop_id  number of missing values =  0.0\n",
      "item_price  number of missing values =  0.0\n",
      "quantity_sold  number of missing values =  0.0\n"
     ]
    }
   ],
   "source": [
    "num_rows=transaction_data.shape[0]\n",
    "for col in transaction_data.columns:\n",
    "    print(col,\" number of missing values = \",transaction_data[col].isna().sum()/num_rows*100)"
   ]
  },
  {
   "cell_type": "markdown",
   "id": "4c00bb83",
   "metadata": {},
   "source": [
    "### get the unique descriptions"
   ]
  },
  {
   "cell_type": "code",
   "execution_count": 292,
   "id": "30929a55",
   "metadata": {},
   "outputs": [
    {
     "data": {
      "text/plain": [
       "array(['ORANGE BARLEY 1.5L', 'GINGER BEER 1.5L', 'TONIC PET 500ML',\n",
       "       'CREAM SODA 1L', 'STRAWBERRY MILK 180ML', 'CREAM SODA 1.5L',\n",
       "       'TWISTEE APPLE 1L', 'FIT O MIXED FRUIT 200ML', 'SODA PET 1.5L',\n",
       "       'FIT O MIXED FRUIT 1L', 'KIK COLA 1L', 'LEMONADE 500ML',\n",
       "       'FIT O ORANGE 1L', 'NECTO 1.5L', 'LEMONADE 1.5L', 'GINGER BEER 1L',\n",
       "       'FIT O MANGO 200ML', 'FIT O MANGO 1L', 'CREAM SODA 500ML',\n",
       "       'FIT O ORANGE 200ML', 'CREAM SODA APPLE POP 1L',\n",
       "       'BOTTLED DRINKING WATER 500ML', 'SODA 500ML', 'GINGER BEER 500ML',\n",
       "       'SODA 1L', 'NECTO 500ML', 'ORANGE CRUSH 500ML',\n",
       "       'BOTTLED DRINKING WATER 1.5L', 'NECTO 1L',\n",
       "       'GINGER BEER SUGAR FREE 500ML', 'ORANGE CRUSH 1.5L',\n",
       "       'DRY GINGER ALE PET 500ML', 'LEMONADE 1L', 'ORANGE CRUSH 1L',\n",
       "       'GINGER BEER 400ML', 'CHOCOLATE MILK 180ML', 'LIME CRUSH JUICE 1L'],\n",
       "      dtype=object)"
      ]
     },
     "execution_count": 292,
     "metadata": {},
     "output_type": "execute_result"
    }
   ],
   "source": [
    "descriptions=transaction_data['item_description'].unique()\n",
    "descriptions"
   ]
  },
  {
   "cell_type": "markdown",
   "id": "ebe41626",
   "metadata": {},
   "source": [
    "### replace the each item price value using mode value"
   ]
  },
  {
   "cell_type": "markdown",
   "id": "ca246359",
   "metadata": {},
   "source": [
    "we know that price of given item should be unique. so that we have to replace item price using mode"
   ]
  },
  {
   "cell_type": "code",
   "execution_count": 293,
   "id": "a0f43138",
   "metadata": {},
   "outputs": [],
   "source": [
    "i=0\n",
    "for description in descriptions:\n",
    "    i+=1\n",
    "    data_des=transaction_data[transaction_data['item_description'] == description]\n",
    "    median_val = data_des['item_price'].median()\n",
    "    mean_val= data_des['item_price'].mean()\n",
    "    #median_percentage = (data_des['item_price'].value_counts()[median_val] / len(data_des)) * 100\n",
    "    #print(i,\"median_val = \",median_val,\" mean = \", mean_val,\" percentage = \",median_percentage)\n",
    "    ### change the values\n",
    "    transaction_data.loc[transaction_data['item_description'] == description,'item_price'] =median_val\n",
    "    \n",
    "\n",
    "\n",
    "    \n",
    "    "
   ]
  },
  {
   "cell_type": "markdown",
   "id": "cbd778d2",
   "metadata": {},
   "source": [
    "### remove outlier in the quantity_sold"
   ]
  },
  {
   "cell_type": "code",
   "execution_count": 294,
   "id": "b2538e53",
   "metadata": {},
   "outputs": [],
   "source": [
    "# median_val = transaction_data['quantity_sold'].median()\n",
    "# mode_val= transaction_data['quantity_sold'].mode()[0]\n",
    "# mean_val = transaction_data['quantity_sold'].mean()\n",
    "# val_0 = (transaction_data['quantity_sold'].value_counts()[0] / len(transaction_data)) * 100\n",
    "# val_1 = (transaction_data['quantity_sold'].value_counts()[1] / len(transaction_data)) * 100\n",
    "# val_2 = (transaction_data['quantity_sold'].value_counts()[2] / len(transaction_data)) * 100\n",
    "# print(\"val_0 = \",val_0,\"val_1 = \",val_1,\"val_2 = \",val_2)\n",
    "# print(\"median_val = \",median_val,\"mode_val = \",mode_val,\"mean_val = \",mean_val)\n"
   ]
  },
  {
   "cell_type": "code",
   "execution_count": 295,
   "id": "c0ff1703",
   "metadata": {},
   "outputs": [],
   "source": [
    "column_name='quantity_sold'\n",
    "z_scores = np.abs((transaction_data[column_name] - transaction_data[column_name].mean()) / transaction_data[column_name].std())\n",
    "\n",
    "# Replace outliers with median\n",
    "median = transaction_data[column_name].median()\n",
    "transaction_data[column_name] = transaction_data[column_name].mask(z_scores > 3, median)"
   ]
  },
  {
   "cell_type": "code",
   "execution_count": 296,
   "id": "f84275bb",
   "metadata": {},
   "outputs": [],
   "source": [
    "# transaction_data_SHOP008 = transaction_data[transaction_data['shop_id'] == 'SHOP008']\n",
    "# transaction_data_SHOP008.shape"
   ]
  },
  {
   "cell_type": "markdown",
   "id": "5b8571bf",
   "metadata": {},
   "source": []
  },
  {
   "cell_type": "markdown",
   "id": "fadd355e",
   "metadata": {},
   "source": []
  },
  {
   "cell_type": "markdown",
   "id": "2cf4f36d",
   "metadata": {},
   "source": [
    "so , that we don't need to use any missing value technic to haddle the missing values in the dataset because we only need price as a multiplication of item_price and quantity_sold. we can also take number of quatity sold by each shop without any problem.we can also take the unique number of customers for each shop because this column also don't have any missing values."
   ]
  },
  {
   "cell_type": "markdown",
   "id": "91e51ecd",
   "metadata": {},
   "source": [
    "we have to take the number of unique items for each shop.but there are some missing values for that column.but we need only the number of unique values.if we fill the missing values.sometimes,this give an error.so we don't fill item_description column"
   ]
  },
  {
   "cell_type": "markdown",
   "id": "ebaff34f",
   "metadata": {},
   "source": [
    "to get the number of unique shop ids "
   ]
  },
  {
   "cell_type": "code",
   "execution_count": 297,
   "id": "dd102cf2",
   "metadata": {},
   "outputs": [
    {
     "name": "stdout",
     "output_type": "stream",
     "text": [
      "number of unique shops =  124\n"
     ]
    }
   ],
   "source": [
    "unique_shop_id_names = store_data['shop_id'].unique()\n",
    "print(\"number of unique shops = \",store_data['shop_id'].nunique())"
   ]
  },
  {
   "cell_type": "markdown",
   "id": "ecfd64dc",
   "metadata": {},
   "source": [
    "we have to find the number of missing values for each column in store_data"
   ]
  },
  {
   "cell_type": "code",
   "execution_count": 298,
   "id": "33e50bdb",
   "metadata": {},
   "outputs": [
    {
     "name": "stdout",
     "output_type": "stream",
     "text": [
      "shop_id  number of missing values =  0\n",
      "shop_area_sq_ft  number of missing values =  0\n",
      "shop_profile  number of missing values =  24\n"
     ]
    }
   ],
   "source": [
    "for col in store_data.columns:\n",
    "    print(col,\" number of missing values = \",store_data[col].isna().sum())"
   ]
  },
  {
   "cell_type": "markdown",
   "id": "fd6afc5a",
   "metadata": {},
   "source": [
    "we can see number of missing values shop_id and shop_area_sq_ft is zero.so,we don't need to use handling misssing values techniques because last shop ids are given to predict"
   ]
  },
  {
   "cell_type": "markdown",
   "id": "51da97b6",
   "metadata": {},
   "source": [
    "we have to get the get the ids of shops to train and predict"
   ]
  },
  {
   "cell_type": "code",
   "execution_count": 299,
   "id": "a6d5eebe",
   "metadata": {},
   "outputs": [
    {
     "name": "stdout",
     "output_type": "stream",
     "text": [
      "nan\n"
     ]
    }
   ],
   "source": [
    "train_shop_id_names=[]\n",
    "predict_shop_id_names=[]\n",
    "for ind in store_data.index:\n",
    "    if(pd.isna(store_data['shop_profile'][ind])):\n",
    "        predict_shop_id_names+=[store_data[\"shop_id\"][ind]]\n",
    "    else:\n",
    "        train_shop_id_names+=[store_data[\"shop_id\"][ind]]\n",
    "print(store_data[\"shop_profile\"][ind])"
   ]
  },
  {
   "cell_type": "code",
   "execution_count": 300,
   "id": "99c0bd49",
   "metadata": {},
   "outputs": [
    {
     "name": "stdout",
     "output_type": "stream",
     "text": [
      "number of shop_id for train =  100\n",
      "number of shop_id for predict =  24\n"
     ]
    }
   ],
   "source": [
    "print(\"number of shop_id for train = \",len(train_shop_id_names))\n",
    "print(\"number of shop_id for predict = \",len(predict_shop_id_names))"
   ]
  },
  {
   "cell_type": "markdown",
   "id": "50678c39",
   "metadata": {},
   "source": [
    "###  create new dataset using previous data"
   ]
  },
  {
   "cell_type": "markdown",
   "id": "5525feae",
   "metadata": {},
   "source": [
    "we have to build new  columns using the transaction_data dataset\n",
    "\n",
    "they are, num_unique_items,\n",
    "          num_unique_customers,\n",
    "          quantity_items,\n",
    "          total_price\n",
    "          \n",
    "we also have to add shop_id,shop_area_sq_ft,shop_profile"
   ]
  },
  {
   "cell_type": "code",
   "execution_count": 301,
   "id": "7ce60fc9",
   "metadata": {},
   "outputs": [],
   "source": [
    "# to create column for total for item\n",
    "transaction_data[\"total_for_items\"]=transaction_data[\"quantity_sold\"]*transaction_data[\"item_price\"]"
   ]
  },
  {
   "cell_type": "code",
   "execution_count": 302,
   "id": "5debdee7",
   "metadata": {},
   "outputs": [
    {
     "data": {
      "text/html": [
       "<div>\n",
       "<style scoped>\n",
       "    .dataframe tbody tr th:only-of-type {\n",
       "        vertical-align: middle;\n",
       "    }\n",
       "\n",
       "    .dataframe tbody tr th {\n",
       "        vertical-align: top;\n",
       "    }\n",
       "\n",
       "    .dataframe thead th {\n",
       "        text-align: right;\n",
       "    }\n",
       "</style>\n",
       "<table border=\"1\" class=\"dataframe\">\n",
       "  <thead>\n",
       "    <tr style=\"text-align: right;\">\n",
       "      <th></th>\n",
       "      <th>item_description</th>\n",
       "      <th>transaction_date</th>\n",
       "      <th>invoice_id</th>\n",
       "      <th>customer_id</th>\n",
       "      <th>shop_id</th>\n",
       "      <th>item_price</th>\n",
       "      <th>quantity_sold</th>\n",
       "      <th>total_for_items</th>\n",
       "    </tr>\n",
       "  </thead>\n",
       "  <tbody>\n",
       "    <tr>\n",
       "      <th>0</th>\n",
       "      <td>ORANGE BARLEY 1.5L</td>\n",
       "      <td>2021-12-11T00:00:00.000Z</td>\n",
       "      <td>147.0</td>\n",
       "      <td>BGXA</td>\n",
       "      <td>SHOP008</td>\n",
       "      <td>220</td>\n",
       "      <td>2</td>\n",
       "      <td>440</td>\n",
       "    </tr>\n",
       "    <tr>\n",
       "      <th>1</th>\n",
       "      <td>GINGER BEER 1.5L</td>\n",
       "      <td>2021-10-17T00:00:00.000Z</td>\n",
       "      <td>371.0</td>\n",
       "      <td>IA25</td>\n",
       "      <td>SHOP112</td>\n",
       "      <td>220</td>\n",
       "      <td>2</td>\n",
       "      <td>440</td>\n",
       "    </tr>\n",
       "    <tr>\n",
       "      <th>2</th>\n",
       "      <td>TONIC PET 500ML</td>\n",
       "      <td>2021-12-13T00:00:00.000Z</td>\n",
       "      <td>484.0</td>\n",
       "      <td>VN7V</td>\n",
       "      <td>SHOP008</td>\n",
       "      <td>160</td>\n",
       "      <td>2</td>\n",
       "      <td>320</td>\n",
       "    </tr>\n",
       "    <tr>\n",
       "      <th>3</th>\n",
       "      <td>CREAM SODA 1L</td>\n",
       "      <td>2021-12-13T00:00:00.000Z</td>\n",
       "      <td>484.0</td>\n",
       "      <td>VN7V</td>\n",
       "      <td>SHOP008</td>\n",
       "      <td>150</td>\n",
       "      <td>2</td>\n",
       "      <td>300</td>\n",
       "    </tr>\n",
       "    <tr>\n",
       "      <th>4</th>\n",
       "      <td>STRAWBERRY MILK 180ML</td>\n",
       "      <td>2021-10-23T00:00:00.000Z</td>\n",
       "      <td>1310.0</td>\n",
       "      <td>7S00</td>\n",
       "      <td>SHOP112</td>\n",
       "      <td>130</td>\n",
       "      <td>5</td>\n",
       "      <td>650</td>\n",
       "    </tr>\n",
       "  </tbody>\n",
       "</table>\n",
       "</div>"
      ],
      "text/plain": [
       "        item_description          transaction_date  invoice_id customer_id  \\\n",
       "0     ORANGE BARLEY 1.5L  2021-12-11T00:00:00.000Z       147.0        BGXA   \n",
       "1       GINGER BEER 1.5L  2021-10-17T00:00:00.000Z       371.0        IA25   \n",
       "2        TONIC PET 500ML  2021-12-13T00:00:00.000Z       484.0        VN7V   \n",
       "3          CREAM SODA 1L  2021-12-13T00:00:00.000Z       484.0        VN7V   \n",
       "4  STRAWBERRY MILK 180ML  2021-10-23T00:00:00.000Z      1310.0        7S00   \n",
       "\n",
       "   shop_id  item_price  quantity_sold  total_for_items  \n",
       "0  SHOP008         220              2              440  \n",
       "1  SHOP112         220              2              440  \n",
       "2  SHOP008         160              2              320  \n",
       "3  SHOP008         150              2              300  \n",
       "4  SHOP112         130              5              650  "
      ]
     },
     "execution_count": 302,
     "metadata": {},
     "output_type": "execute_result"
    }
   ],
   "source": [
    "transaction_data.head()"
   ]
  },
  {
   "cell_type": "code",
   "execution_count": 2,
   "id": "1b797db6",
   "metadata": {},
   "outputs": [
    {
     "ename": "NameError",
     "evalue": "name 'pd' is not defined",
     "output_type": "error",
     "traceback": [
      "\u001b[1;31m---------------------------------------------------------------------------\u001b[0m",
      "\u001b[1;31mNameError\u001b[0m                                 Traceback (most recent call last)",
      "Cell \u001b[1;32mIn[2], line 3\u001b[0m\n\u001b[0;32m      1\u001b[0m col_names_x\u001b[38;5;241m=\u001b[39m[\u001b[38;5;124m'\u001b[39m\u001b[38;5;124mshop_id\u001b[39m\u001b[38;5;124m'\u001b[39m,\u001b[38;5;124m'\u001b[39m\u001b[38;5;124mnum_unique_items\u001b[39m\u001b[38;5;124m'\u001b[39m,\u001b[38;5;124m'\u001b[39m\u001b[38;5;124mnum_unique_customers\u001b[39m\u001b[38;5;124m'\u001b[39m,\u001b[38;5;124m'\u001b[39m\u001b[38;5;124mquantity_items\u001b[39m\u001b[38;5;124m'\u001b[39m,\u001b[38;5;124m'\u001b[39m\u001b[38;5;124mtotal_price\u001b[39m\u001b[38;5;124m'\u001b[39m,\u001b[38;5;124m'\u001b[39m\u001b[38;5;124mshop_area_sq_ft\u001b[39m\u001b[38;5;124m'\u001b[39m]\n\u001b[1;32m----> 3\u001b[0m main_data_x\u001b[38;5;241m=\u001b[39m\u001b[43mpd\u001b[49m\u001b[38;5;241m.\u001b[39mDataFrame(columns\u001b[38;5;241m=\u001b[39mcol_names_x)\n\u001b[0;32m      4\u001b[0m main_data_y\u001b[38;5;241m=\u001b[39mpd\u001b[38;5;241m.\u001b[39mDataFrame(columns\u001b[38;5;241m=\u001b[39m[\u001b[38;5;124m'\u001b[39m\u001b[38;5;124mshop_id\u001b[39m\u001b[38;5;124m'\u001b[39m,\u001b[38;5;124m\"\u001b[39m\u001b[38;5;124mshop_profile\u001b[39m\u001b[38;5;124m\"\u001b[39m]) \n",
      "\u001b[1;31mNameError\u001b[0m: name 'pd' is not defined"
     ]
    }
   ],
   "source": [
    "col_names_x=['shop_id','num_unique_items','num_unique_customers','quantity_items','total_price','shop_area_sq_ft']\n",
    "\n",
    "main_data_x=pd.DataFrame(columns=col_names_x)\n",
    "main_data_y=pd.DataFrame(columns=['shop_id',\"shop_profile\"]) "
   ]
  },
  {
   "cell_type": "code",
   "execution_count": 4,
   "id": "04c6bd45",
   "metadata": {},
   "outputs": [
    {
     "ename": "NameError",
     "evalue": "name 'train_shop_id_names' is not defined",
     "output_type": "error",
     "traceback": [
      "\u001b[1;31m---------------------------------------------------------------------------\u001b[0m",
      "\u001b[1;31mNameError\u001b[0m                                 Traceback (most recent call last)",
      "Cell \u001b[1;32mIn[4], line 1\u001b[0m\n\u001b[1;32m----> 1\u001b[0m \u001b[38;5;28;01mfor\u001b[39;00m shop_id \u001b[38;5;129;01min\u001b[39;00m \u001b[43mtrain_shop_id_names\u001b[49m:\n\u001b[0;32m      2\u001b[0m     \u001b[38;5;66;03m#print(shop_id)\u001b[39;00m\n\u001b[0;32m      3\u001b[0m     data_shop\u001b[38;5;241m=\u001b[39mtransaction_data[transaction_data[\u001b[38;5;124m'\u001b[39m\u001b[38;5;124mshop_id\u001b[39m\u001b[38;5;124m'\u001b[39m] \u001b[38;5;241m==\u001b[39m shop_id]\n\u001b[0;32m      4\u001b[0m     \u001b[38;5;66;03m#print(data_shop.head())\u001b[39;00m\n",
      "\u001b[1;31mNameError\u001b[0m: name 'train_shop_id_names' is not defined"
     ]
    }
   ],
   "source": [
    "for shop_id in train_shop_id_names:\n",
    "    #print(shop_id)\n",
    "    data_shop=transaction_data[transaction_data['shop_id'] == shop_id]\n",
    "    #print(data_shop.head())\n",
    "    num_unique_items=data_shop[\"item_description\"].nunique()\n",
    "    num_unique_customers=data_shop[\"customer_id\"].nunique()\n",
    "    quantity_items=data_shop[\"quantity_sold\"].nunique()\n",
    "    total_price=data_shop[\"total_for_items\"].sum()\n",
    "    #print(\"num_unique_items = \",num_unique_items,' num_unique_customers = ',num_unique_customers,\" quantity_items = \",quantity_items,\" total_price =\",total_price)\n",
    "    store_data_new=store_data[store_data['shop_id'] == shop_id]\n",
    "    shop_area_sq_ft=store_data_new[\"shop_area_sq_ft\"].iloc[0]\n",
    "    shop_profile=store_data_new[\"shop_profile\"].iloc[0]\n",
    "    \n",
    "    #price_0_100=store_data[(0<store_data[\"item_price\"])store_data[\"item_price\"<100,\"quantity_items\"].sum()\n",
    "#     price_100_200=\n",
    "#     price_200_500=\n",
    "#     price_500_1000=\n",
    "#     price_1000=\n",
    "    #print(\"shop_area_sq_ft = \",shop_area_sq_ft,' shop_profile = ',shop_profile)\n",
    "    new_row_x={'shop_id':shop_id,'num_unique_items':num_unique_items,'num_unique_customers':num_unique_customers,'quantity_items':quantity_items,'total_price':total_price,'shop_area_sq_ft':shop_area_sq_ft}\n",
    "    new_row_y={'shop_id':shop_id,'shop_profile':shop_profile}\n",
    "    main_data_x=pd.concat([main_data_x, pd.DataFrame(new_row_x, index=[0])], ignore_index=True)\n",
    "    main_data_y=pd.concat([main_data_y, pd.DataFrame(new_row_y, index=[0])], ignore_index=True)\n",
    "    \n",
    "    "
   ]
  },
  {
   "cell_type": "markdown",
   "id": "d7a4a835",
   "metadata": {},
   "source": [
    "make index as the \"shop_id\""
   ]
  },
  {
   "cell_type": "code",
   "execution_count": 305,
   "id": "b3c74bfd",
   "metadata": {},
   "outputs": [],
   "source": [
    "main_data_x.set_index(\"shop_id\", inplace=True)\n",
    "main_data_y.set_index(\"shop_id\", inplace=True)\n",
    "# main_data_x = main_data_x.drop(\"shop_id\", axis=1)\n",
    "# main_data_y = main_data_y.drop(\"shop_id\", axis=1)"
   ]
  },
  {
   "cell_type": "code",
   "execution_count": 306,
   "id": "5b0a699b",
   "metadata": {},
   "outputs": [
    {
     "data": {
      "text/html": [
       "<div>\n",
       "<style scoped>\n",
       "    .dataframe tbody tr th:only-of-type {\n",
       "        vertical-align: middle;\n",
       "    }\n",
       "\n",
       "    .dataframe tbody tr th {\n",
       "        vertical-align: top;\n",
       "    }\n",
       "\n",
       "    .dataframe thead th {\n",
       "        text-align: right;\n",
       "    }\n",
       "</style>\n",
       "<table border=\"1\" class=\"dataframe\">\n",
       "  <thead>\n",
       "    <tr style=\"text-align: right;\">\n",
       "      <th></th>\n",
       "      <th>num_unique_items</th>\n",
       "      <th>num_unique_customers</th>\n",
       "      <th>quantity_items</th>\n",
       "      <th>total_price</th>\n",
       "      <th>shop_area_sq_ft</th>\n",
       "    </tr>\n",
       "    <tr>\n",
       "      <th>shop_id</th>\n",
       "      <th></th>\n",
       "      <th></th>\n",
       "      <th></th>\n",
       "      <th></th>\n",
       "      <th></th>\n",
       "    </tr>\n",
       "  </thead>\n",
       "  <tbody>\n",
       "    <tr>\n",
       "      <th>SHOP047</th>\n",
       "      <td>35</td>\n",
       "      <td>841</td>\n",
       "      <td>7</td>\n",
       "      <td>402630</td>\n",
       "      <td>528</td>\n",
       "    </tr>\n",
       "    <tr>\n",
       "      <th>SHOP009</th>\n",
       "      <td>35</td>\n",
       "      <td>2210</td>\n",
       "      <td>7</td>\n",
       "      <td>1042935</td>\n",
       "      <td>676</td>\n",
       "    </tr>\n",
       "    <tr>\n",
       "      <th>SHOP083</th>\n",
       "      <td>35</td>\n",
       "      <td>1719</td>\n",
       "      <td>7</td>\n",
       "      <td>893405</td>\n",
       "      <td>676</td>\n",
       "    </tr>\n",
       "    <tr>\n",
       "      <th>SHOP117</th>\n",
       "      <td>35</td>\n",
       "      <td>1898</td>\n",
       "      <td>8</td>\n",
       "      <td>1102230</td>\n",
       "      <td>676</td>\n",
       "    </tr>\n",
       "    <tr>\n",
       "      <th>SHOP042</th>\n",
       "      <td>35</td>\n",
       "      <td>1661</td>\n",
       "      <td>7</td>\n",
       "      <td>751620</td>\n",
       "      <td>676</td>\n",
       "    </tr>\n",
       "  </tbody>\n",
       "</table>\n",
       "</div>"
      ],
      "text/plain": [
       "        num_unique_items num_unique_customers quantity_items total_price  \\\n",
       "shop_id                                                                    \n",
       "SHOP047               35                  841              7      402630   \n",
       "SHOP009               35                 2210              7     1042935   \n",
       "SHOP083               35                 1719              7      893405   \n",
       "SHOP117               35                 1898              8     1102230   \n",
       "SHOP042               35                 1661              7      751620   \n",
       "\n",
       "        shop_area_sq_ft  \n",
       "shop_id                  \n",
       "SHOP047             528  \n",
       "SHOP009             676  \n",
       "SHOP083             676  \n",
       "SHOP117             676  \n",
       "SHOP042             676  "
      ]
     },
     "execution_count": 306,
     "metadata": {},
     "output_type": "execute_result"
    }
   ],
   "source": [
    "main_data_x.head()"
   ]
  },
  {
   "cell_type": "markdown",
   "id": "8ad227b0",
   "metadata": {},
   "source": [
    "### Find the mi score"
   ]
  },
  {
   "cell_type": "code",
   "execution_count": 307,
   "id": "3a57a6d0",
   "metadata": {},
   "outputs": [
    {
     "name": "stdout",
     "output_type": "stream",
     "text": [
      "mi score for each column\n",
      "num_unique_customers    0.210274\n",
      "quantity_items          0.159865\n",
      "total_price             0.078470\n",
      "shop_area_sq_ft         0.049919\n",
      "num_unique_items        0.038577\n",
      "Name: MI Scores, dtype: float64\n"
     ]
    }
   ],
   "source": [
    "from sklearn.feature_selection import mutual_info_classif\n",
    "\n",
    "def make_mi_scores(X, y):\n",
    "    y = y.ravel()\n",
    "    mi_scores = mutual_info_classif(X, y)\n",
    "    mi_scores = pd.Series(mi_scores, name=\"MI Scores\", index=X.columns)\n",
    "    mi_scores = mi_scores.sort_values(ascending=False)\n",
    "    return mi_scores\n",
    "\n",
    "mi_scores = make_mi_scores(main_data_x,main_data_y['shop_profile'])\n",
    "print(\"mi score for each column\")\n",
    "print(mi_scores)"
   ]
  },
  {
   "cell_type": "markdown",
   "id": "2cb95f24",
   "metadata": {},
   "source": [
    "### shapes of the dataset"
   ]
  },
  {
   "cell_type": "code",
   "execution_count": 308,
   "id": "6eff9ff9",
   "metadata": {},
   "outputs": [
    {
     "data": {
      "image/png": "[encoded data removed]",
      "text/plain": [
       "<Figure size 1400x800 with 6 Axes>"
      ]
     },
     "metadata": {},
     "output_type": "display_data"
    }
   ],
   "source": [
    "import matplotlib.pyplot as plt\n",
    "fig, axes = plt.subplots(nrows=2, ncols=3,figsize=(14,8))\n",
    "\n",
    "i=0\n",
    "for col in main_data_x.columns:\n",
    "    main_data_x[col].plot(kind='kde',ax=axes[i//3,i%3],title=col)\n",
    "    i+=1"
   ]
  },
  {
   "cell_type": "markdown",
   "id": "67350cb5",
   "metadata": {},
   "source": [
    "### find outliers columns"
   ]
  },
  {
   "cell_type": "code",
   "execution_count": 309,
   "id": "ed6daf4b",
   "metadata": {},
   "outputs": [
    {
     "name": "stdout",
     "output_type": "stream",
     "text": [
      "Outlier columns: ['num_unique_items', 'num_unique_customers', 'quantity_items', 'total_price', 'shop_area_sq_ft']\n"
     ]
    }
   ],
   "source": [
    "import numpy as np\n",
    "# Calculate z-scores for each column\n",
    "z_scores = np.abs((main_data_x - main_data_x.mean()) / main_data_x.std())\n",
    "\n",
    "# Identify columns with at least one outlier\n",
    "outlier_cols = z_scores.columns[z_scores.max() > 3].tolist()\n",
    "\n",
    "# Print outlier columns\n",
    "print(\"Outlier columns:\", outlier_cols)"
   ]
  },
  {
   "cell_type": "markdown",
   "id": "3147de7f",
   "metadata": {},
   "source": [
    "### remove outliers "
   ]
  },
  {
   "cell_type": "code",
   "execution_count": 310,
   "id": "4bb4108e",
   "metadata": {},
   "outputs": [],
   "source": [
    "# # Calculate z-scores for each column\n",
    "# z_scores = np.abs((main_data_x - main_data_x.mean()) / main_data_x.std())\n",
    "\n",
    "# # Replace outliers with median\n",
    "# median = main_data_x.median()\n",
    "# removed_outlier_main_data_x = main_data_x.mask(z_scores > 3, median, axis=1)"
   ]
  },
  {
   "cell_type": "markdown",
   "id": "519c8ae0",
   "metadata": {},
   "source": [
    "Removing outliers can help to mitigate the effects of overfitting and improve the performance of the model. However, it's important to carefully consider which data points are considered outliers and whether they should be removed. Some outliers may be genuine data points that are important for the problem you are trying to solve, and removing them may lead to a loss of valuable information."
   ]
  },
  {
   "cell_type": "markdown",
   "id": "f5844fc6",
   "metadata": {},
   "source": [
    "#### we know that Moderate is better than Low.High is better than Moderate.so that \"shop_profile\" is an ordinal data"
   ]
  },
  {
   "cell_type": "code",
   "execution_count": 311,
   "id": "b8c3be5e",
   "metadata": {},
   "outputs": [
    {
     "data": {
      "text/plain": [
       "array(['Moderate', 'High', 'Low'], dtype=object)"
      ]
     },
     "execution_count": 311,
     "metadata": {},
     "output_type": "execute_result"
    }
   ],
   "source": [
    "main_data_y[\"shop_profile\"].unique()"
   ]
  },
  {
   "cell_type": "markdown",
   "id": "70c8634a",
   "metadata": {},
   "source": [
    "we replace Low=0,Moderate=1,High=2"
   ]
  },
  {
   "cell_type": "code",
   "execution_count": 312,
   "id": "6282584d",
   "metadata": {},
   "outputs": [],
   "source": [
    "main_data_y[\"shop_profile\"] = pd.Categorical(main_data_y[\"shop_profile\"], categories=['Low', 'Moderate', 'High'], ordered=True).codes"
   ]
  },
  {
   "cell_type": "markdown",
   "id": "903a532a",
   "metadata": {},
   "source": [
    "### import neeeded libraries for testing"
   ]
  },
  {
   "cell_type": "code",
   "execution_count": 313,
   "id": "0efca47f",
   "metadata": {},
   "outputs": [],
   "source": [
    "from sklearn.ensemble import RandomForestClassifier\n",
    "from sklearn.model_selection import train_test_split\n",
    "from sklearn.metrics import f1_score\n",
    "from sklearn.neighbors import KNeighborsClassifier\n",
    "from sklearn.metrics import accuracy_score"
   ]
  },
  {
   "cell_type": "markdown",
   "id": "777d15a6",
   "metadata": {},
   "source": [
    "#### Split the dataset into training and testing sets"
   ]
  },
  {
   "cell_type": "code",
   "execution_count": 314,
   "id": "0b530016",
   "metadata": {},
   "outputs": [],
   "source": [
    "X_train, X_test, y_train, y_test = train_test_split(main_data_x, main_data_y, test_size=0.2, random_state=42)"
   ]
  },
  {
   "cell_type": "markdown",
   "id": "86fe5323",
   "metadata": {},
   "source": [
    "#### for testing purpose we need only one column.so that get only one column"
   ]
  },
  {
   "cell_type": "code",
   "execution_count": 315,
   "id": "af6c75fc",
   "metadata": {},
   "outputs": [],
   "source": [
    "y_train = y_train['shop_profile'].values.ravel()\n",
    "y_test = y_test['shop_profile'].values.ravel()"
   ]
  },
  {
   "cell_type": "markdown",
   "id": "6ddc0d6d",
   "metadata": {},
   "source": [
    "### Random Forest Classifier"
   ]
  },
  {
   "cell_type": "code",
   "execution_count": 316,
   "id": "ad0706c2",
   "metadata": {},
   "outputs": [
    {
     "name": "stdout",
     "output_type": "stream",
     "text": [
      "Accuracy using model: 55.00%\n",
      "F1 score for random forest : 0.54\n"
     ]
    }
   ],
   "source": [
    "# Choose hyperparameters\n",
    "n_estimators = 200\n",
    "max_depth = 50\n",
    "\n",
    "\n",
    "# Train the model\n",
    "model = RandomForestClassifier(n_estimators=n_estimators, max_depth=max_depth, random_state=42)\n",
    "model.fit(X_train, y_train)\n",
    "\n",
    "\n",
    "# Evaluate the model\n",
    "score = model.score(X_test, y_test)\n",
    "print(\"Accuracy using model: {:.2f}%\".format(score * 100))\n",
    "\n",
    "# Predict with the model\n",
    "y_pred = model.predict(X_test)\n",
    "\n",
    "f1 = f1_score(y_test, y_pred, average='weighted')\n",
    "\n",
    "print('F1 score for random forest :', f1)"
   ]
  },
  {
   "cell_type": "markdown",
   "id": "8e7596e0",
   "metadata": {},
   "source": [
    "### KNN alorithm"
   ]
  },
  {
   "cell_type": "code",
   "execution_count": 317,
   "id": "b7bb5f85",
   "metadata": {},
   "outputs": [
    {
     "name": "stdout",
     "output_type": "stream",
     "text": [
      "F1 score: 0.24254385964912278\n"
     ]
    }
   ],
   "source": [
    "knn = KNeighborsClassifier(n_neighbors=1)\n",
    "\n",
    "# train the model\n",
    "knn.fit(X_train, y_train)\n",
    "\n",
    "# predict the classes for the test set\n",
    "y_pred = knn.predict(X_test)\n",
    "\n",
    "# calculate the accuracy of the model\n",
    "f1 = f1_score(y_test, y_pred, average='weighted')\n",
    "\n",
    "print('F1 score:', f1)"
   ]
  },
  {
   "cell_type": "markdown",
   "id": "24efe245",
   "metadata": {},
   "source": [
    "### Cross validation score for Random Forest"
   ]
  },
  {
   "cell_type": "code",
   "execution_count": 321,
   "id": "706eccab",
   "metadata": {},
   "outputs": [
    {
     "name": "stdout",
     "output_type": "stream",
     "text": [
      "Mean score: 0.54\n",
      "Standard deviation: 0.06633249580710798\n",
      "F1 score: 0.5950107275765171\n"
     ]
    }
   ],
   "source": [
    "from sklearn.model_selection import cross_val_score\n",
    "\n",
    "n_estimators = 200\n",
    "max_depth = 50\n",
    "\n",
    "main_data_y_cross = main_data_y['shop_profile'].values.ravel()\n",
    "\n",
    "# Train the model\n",
    "rf = RandomForestClassifier(n_estimators=n_estimators, max_depth=max_depth)\n",
    "scores = cross_val_score(rf, main_data_x,main_data_y_cross, cv=4)\n",
    "f1_scores = cross_val_score(rf,main_data_x,main_data_y_cross, cv=4, scoring='f1_macro')\n",
    "\n",
    "print(\"Mean score:\", scores.mean())\n",
    "print(\"Standard deviation:\", scores.std())\n",
    "print(\"F1 score:\", f1_scores.mean())"
   ]
  },
  {
   "cell_type": "markdown",
   "id": "0a29b44b",
   "metadata": {},
   "source": [
    "## save data to file"
   ]
  },
  {
   "cell_type": "code",
   "execution_count": 322,
   "id": "5eb547dd",
   "metadata": {},
   "outputs": [],
   "source": [
    "import pandas as pd\n",
    "col_names_x=['shop_id','num_unique_items','num_unique_customers','quantity_items','total_price','shop_area_sq_ft']\n",
    "\n",
    "test_data_x=pd.DataFrame(columns=col_names_x)\n",
    "test_data_y=pd.DataFrame(columns=['shop_id',\"shop_profile\"])"
   ]
  },
  {
   "cell_type": "code",
   "execution_count": 323,
   "id": "aa4e9fc5",
   "metadata": {},
   "outputs": [],
   "source": [
    "for shop_id in predict_shop_id_names:\n",
    "    #print(shop_id)\n",
    "    data_shop=transaction_data[transaction_data['shop_id'] == shop_id]\n",
    "    #print(data_shop.head())\n",
    "    num_unique_items=data_shop[\"item_description\"].nunique()\n",
    "    num_unique_customers=data_shop[\"customer_id\"].nunique()\n",
    "    quantity_items=data_shop[\"quantity_sold\"].nunique()\n",
    "    total_price=data_shop[\"total_for_items\"].sum()\n",
    "    #print(\"num_unique_items = \",num_unique_items,' num_unique_customers = ',num_unique_customers,\" quantity_items = \",quantity_items,\" total_price =\",total_price)\n",
    "    store_data_new=store_data[store_data['shop_id'] == shop_id]\n",
    "    shop_area_sq_ft=store_data_new[\"shop_area_sq_ft\"].iloc[0]\n",
    "    shop_profile=store_data_new[\"shop_profile\"].iloc[0]\n",
    "    #print(\"shop_area_sq_ft = \",shop_area_sq_ft,' shop_profile = ',shop_profile)\n",
    "    new_row_x={'shop_id':shop_id,'num_unique_items':num_unique_items,'num_unique_customers':num_unique_customers,'quantity_items':quantity_items,'total_price':total_price,'shop_area_sq_ft':shop_area_sq_ft}\n",
    "    new_row_y={'shop_id':shop_id,'shop_profile':shop_profile}\n",
    "    test_data_x=pd.concat([test_data_x, pd.DataFrame(new_row_x, index=[0])], ignore_index=True)\n",
    "    test_data_y=pd.concat([test_data_y, pd.DataFrame(new_row_y, index=[0])], ignore_index=True)"
   ]
  },
  {
   "cell_type": "code",
   "execution_count": 324,
   "id": "5f26d52a",
   "metadata": {},
   "outputs": [],
   "source": [
    "test_data_x.set_index(\"shop_id\", inplace=True)\n",
    "# test_data_x = test_data_x.drop(\"shop_id\", axis=1)"
   ]
  },
  {
   "cell_type": "code",
   "execution_count": 325,
   "id": "e7ac0839",
   "metadata": {},
   "outputs": [
    {
     "data": {
      "text/html": [
       "<div>\n",
       "<style scoped>\n",
       "    .dataframe tbody tr th:only-of-type {\n",
       "        vertical-align: middle;\n",
       "    }\n",
       "\n",
       "    .dataframe tbody tr th {\n",
       "        vertical-align: top;\n",
       "    }\n",
       "\n",
       "    .dataframe thead th {\n",
       "        text-align: right;\n",
       "    }\n",
       "</style>\n",
       "<table border=\"1\" class=\"dataframe\">\n",
       "  <thead>\n",
       "    <tr style=\"text-align: right;\">\n",
       "      <th></th>\n",
       "      <th>shop_profile</th>\n",
       "    </tr>\n",
       "    <tr>\n",
       "      <th>shop_id</th>\n",
       "      <th></th>\n",
       "    </tr>\n",
       "  </thead>\n",
       "  <tbody>\n",
       "    <tr>\n",
       "      <th>SHOP047</th>\n",
       "      <td>1</td>\n",
       "    </tr>\n",
       "    <tr>\n",
       "      <th>SHOP009</th>\n",
       "      <td>2</td>\n",
       "    </tr>\n",
       "    <tr>\n",
       "      <th>SHOP083</th>\n",
       "      <td>0</td>\n",
       "    </tr>\n",
       "    <tr>\n",
       "      <th>SHOP117</th>\n",
       "      <td>0</td>\n",
       "    </tr>\n",
       "    <tr>\n",
       "      <th>SHOP042</th>\n",
       "      <td>0</td>\n",
       "    </tr>\n",
       "    <tr>\n",
       "      <th>...</th>\n",
       "      <td>...</td>\n",
       "    </tr>\n",
       "    <tr>\n",
       "      <th>SHOP124</th>\n",
       "      <td>2</td>\n",
       "    </tr>\n",
       "    <tr>\n",
       "      <th>SHOP012</th>\n",
       "      <td>0</td>\n",
       "    </tr>\n",
       "    <tr>\n",
       "      <th>SHOP093</th>\n",
       "      <td>2</td>\n",
       "    </tr>\n",
       "    <tr>\n",
       "      <th>SHOP004</th>\n",
       "      <td>0</td>\n",
       "    </tr>\n",
       "    <tr>\n",
       "      <th>SHOP101</th>\n",
       "      <td>2</td>\n",
       "    </tr>\n",
       "  </tbody>\n",
       "</table>\n",
       "<p>100 rows × 1 columns</p>\n",
       "</div>"
      ],
      "text/plain": [
       "         shop_profile\n",
       "shop_id              \n",
       "SHOP047             1\n",
       "SHOP009             2\n",
       "SHOP083             0\n",
       "SHOP117             0\n",
       "SHOP042             0\n",
       "...               ...\n",
       "SHOP124             2\n",
       "SHOP012             0\n",
       "SHOP093             2\n",
       "SHOP004             0\n",
       "SHOP101             2\n",
       "\n",
       "[100 rows x 1 columns]"
      ]
     },
     "execution_count": 325,
     "metadata": {},
     "output_type": "execute_result"
    }
   ],
   "source": [
    "main_data_y"
   ]
  },
  {
   "cell_type": "markdown",
   "id": "6ad7f88e",
   "metadata": {},
   "source": [
    "### save data using Random Forest"
   ]
  },
  {
   "cell_type": "markdown",
   "id": "4d0f7f6b",
   "metadata": {},
   "source": [
    "to change to ravel"
   ]
  },
  {
   "cell_type": "code",
   "execution_count": 326,
   "id": "410e034d",
   "metadata": {},
   "outputs": [],
   "source": [
    "main_data_y= main_data_y['shop_profile'].values.ravel()"
   ]
  },
  {
   "cell_type": "code",
   "execution_count": 327,
   "id": "18209625",
   "metadata": {},
   "outputs": [
    {
     "name": "stdout",
     "output_type": "stream",
     "text": [
      "[0 1 0 1 1 0 1 0 1 1 2 0 0 2 1 0 1 2 2 0 1 0 2 1]\n"
     ]
    }
   ],
   "source": [
    "# Choose hyperparameters\n",
    "n_estimators = 200\n",
    "max_depth = 50\n",
    "\n",
    "\n",
    "# Train the model\n",
    "model = RandomForestClassifier(n_estimators=n_estimators, max_depth=max_depth, random_state=42)\n",
    "model.fit(main_data_x, main_data_y)\n",
    "\n",
    "\n",
    "# Predict with the model\n",
    "y_pred_test = model.predict(test_data_x)\n",
    "\n",
    "print(y_pred_test)"
   ]
  },
  {
   "cell_type": "markdown",
   "id": "fc9d7218",
   "metadata": {},
   "source": [
    "#### covert into again y_pred_test into 'Low', 'Moderate', 'High'"
   ]
  },
  {
   "cell_type": "code",
   "execution_count": 328,
   "id": "a75a7e49",
   "metadata": {},
   "outputs": [],
   "source": [
    "y_pred_test = [\"Low\" if item==0 else \"Moderate\" if item==1 else \"High\" for item in y_pred_test]"
   ]
  },
  {
   "cell_type": "code",
   "execution_count": 329,
   "id": "7ab0422b",
   "metadata": {},
   "outputs": [
    {
     "name": "stdout",
     "output_type": "stream",
     "text": [
      "['Low', 'Moderate', 'Low', 'Moderate', 'Moderate', 'Low', 'Moderate', 'Low', 'Moderate', 'Moderate', 'High', 'Low', 'Low', 'High', 'Moderate', 'Low', 'Moderate', 'High', 'High', 'Low', 'Moderate', 'Low', 'High', 'Moderate']\n"
     ]
    }
   ],
   "source": [
    "print(y_pred_test)"
   ]
  },
  {
   "cell_type": "code",
   "execution_count": 330,
   "id": "b4e7a2a5",
   "metadata": {},
   "outputs": [],
   "source": [
    "test_data_y['shop_profile'] = y_pred_test"
   ]
  },
  {
   "cell_type": "code",
   "execution_count": 331,
   "id": "6739bc57",
   "metadata": {},
   "outputs": [
    {
     "data": {
      "text/html": [
       "<div>\n",
       "<style scoped>\n",
       "    .dataframe tbody tr th:only-of-type {\n",
       "        vertical-align: middle;\n",
       "    }\n",
       "\n",
       "    .dataframe tbody tr th {\n",
       "        vertical-align: top;\n",
       "    }\n",
       "\n",
       "    .dataframe thead th {\n",
       "        text-align: right;\n",
       "    }\n",
       "</style>\n",
       "<table border=\"1\" class=\"dataframe\">\n",
       "  <thead>\n",
       "    <tr style=\"text-align: right;\">\n",
       "      <th></th>\n",
       "      <th>shop_id</th>\n",
       "      <th>shop_profile</th>\n",
       "    </tr>\n",
       "  </thead>\n",
       "  <tbody>\n",
       "    <tr>\n",
       "      <th>0</th>\n",
       "      <td>SHOP046</td>\n",
       "      <td>Low</td>\n",
       "    </tr>\n",
       "    <tr>\n",
       "      <th>1</th>\n",
       "      <td>SHOP024</td>\n",
       "      <td>Moderate</td>\n",
       "    </tr>\n",
       "    <tr>\n",
       "      <th>2</th>\n",
       "      <td>SHOP023</td>\n",
       "      <td>Low</td>\n",
       "    </tr>\n",
       "    <tr>\n",
       "      <th>3</th>\n",
       "      <td>SHOP097</td>\n",
       "      <td>Moderate</td>\n",
       "    </tr>\n",
       "    <tr>\n",
       "      <th>4</th>\n",
       "      <td>SHOP044</td>\n",
       "      <td>Moderate</td>\n",
       "    </tr>\n",
       "  </tbody>\n",
       "</table>\n",
       "</div>"
      ],
      "text/plain": [
       "   shop_id shop_profile\n",
       "0  SHOP046          Low\n",
       "1  SHOP024     Moderate\n",
       "2  SHOP023          Low\n",
       "3  SHOP097     Moderate\n",
       "4  SHOP044     Moderate"
      ]
     },
     "execution_count": 331,
     "metadata": {},
     "output_type": "execute_result"
    }
   ],
   "source": [
    "test_data_y.head()"
   ]
  },
  {
   "cell_type": "markdown",
   "id": "d99cbe91",
   "metadata": {},
   "source": [
    "#### Save into the file"
   ]
  },
  {
   "cell_type": "code",
   "execution_count": 332,
   "id": "58628c0f",
   "metadata": {},
   "outputs": [],
   "source": [
    "test_data_y.to_csv('Testing-data-4.csv', index=False)"
   ]
  },
  {
   "cell_type": "markdown",
   "id": "e810a486",
   "metadata": {},
   "source": [
    "### end"
   ]
  },
  {
   "cell_type": "code",
   "execution_count": null,
   "id": "e411a19d",
   "metadata": {},
   "outputs": [],
   "source": []
  }
 ],
 "metadata": {
  "kernelspec": {
   "display_name": "Python 3 (ipykernel)",
   "language": "python",
   "name": "python3"
  },
  "language_info": {
   "codemirror_mode": {
    "name": "ipython",
    "version": 3
   },
   "file_extension": ".py",
   "mimetype": "text/x-python",
   "name": "python",
   "nbconvert_exporter": "python",
   "pygments_lexer": "ipython3",
   "version": "3.11.3"
  }
 },
 "nbformat": 4,
 "nbformat_minor": 5
}
